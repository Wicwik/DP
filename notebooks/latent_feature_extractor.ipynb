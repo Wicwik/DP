{
 "cells": [
  {
   "cell_type": "code",
   "execution_count": 1,
   "id": "7ece5e45",
   "metadata": {},
   "outputs": [],
   "source": [
    "from torch import nn\n",
    "from torch.utils.data import DataLoader, TensorDataset, random_split\n",
    "\n",
    "import numpy as np\n",
    "import torch\n",
    "import h5py\n",
    "import time\n",
    "import sys\n",
    "sys.path.append('..')\n",
    "sys.path.append('../stylegan3')\n",
    "\n",
    "from utils.L2FPipeline import L2FPipeline\n",
    "from stylegan_generator import StyleGANGenerator\n",
    "from models.MultilabelResnetClassifier import MultilabelResnetClassifier\n",
    "from models.LatentFeatureExtractor import LatentFeatureExtractor"
   ]
  },
  {
   "cell_type": "code",
   "execution_count": 2,
   "id": "8003de0d",
   "metadata": {},
   "outputs": [],
   "source": [
    "torch.manual_seed(0)\n",
    "data_path = '/home/robert/data/diploma-thesis/datasets/stylegan3/tpsi_1/latents/sample_z.h5'\n",
    "n_classes = 10\n",
    "\n",
    "data = None\n",
    "with h5py.File(data_path, 'r') as f:\n",
    "    data = f['z'][:]\n",
    "\n",
    "dataset = TensorDataset(torch.Tensor(data),torch.randint(0,2,(len(data), n_classes)).to(torch.float32))\n",
    "train_data, valid_data, test_data = random_split(dataset, [0.8, 0.1, 0.1])"
   ]
  },
  {
   "cell_type": "code",
   "execution_count": 3,
   "id": "3dc5edb8",
   "metadata": {},
   "outputs": [
    {
     "data": {
      "text/plain": [
       "(256000, 512)"
      ]
     },
     "execution_count": 3,
     "metadata": {},
     "output_type": "execute_result"
    }
   ],
   "source": [
    "data.shape"
   ]
  },
  {
   "cell_type": "code",
   "execution_count": 4,
   "id": "47f453f0",
   "metadata": {},
   "outputs": [],
   "source": [
    "network_pkl = 'https://api.ngc.nvidia.com/v2/models/nvidia/research/stylegan3/versions/1/files/stylegan3-r-ffhqu-256x256.pkl'\n",
    "classifier_weights = '/home/robert/data/diploma-thesis/weights/classfier/resnet34_celeba10attr_10e.pt'\n",
    "\n",
    "generator = StyleGANGenerator(network_pkl)\n",
    "classifier = MultilabelResnetClassifier(n_classes=10)\n",
    "classifier.load_state_dict(torch.load(classifier_weights))\n",
    "\n",
    "pipeline = L2FPipeline(generator = generator, classifier = classifier, tpsi=0.7)"
   ]
  },
  {
   "cell_type": "code",
   "execution_count": 5,
   "id": "0e198d9c",
   "metadata": {},
   "outputs": [],
   "source": [
    "batch_size = 16\n",
    "num_epochs = 10\n",
    "learning_rate = 1e-4\n",
    "train_dataloader = DataLoader(train_data, batch_size=batch_size, shuffle=True)\n",
    "valid_dataloader = DataLoader(valid_data, batch_size=batch_size, shuffle=True)\n",
    "test_dataloader = DataLoader(test_data, batch_size=batch_size, shuffle=False)\n",
    "\n",
    "model = LatentFeatureExtractor(n_classes=n_classes).cuda()\n",
    "criterion = nn.BCELoss()\n",
    "optimizer = torch.optim.Adam(\n",
    "    model.parameters(), lr=learning_rate)\n",
    "\n",
    "save_filename = 'latent_feature_extractor_a.pt'\n",
    "\n",
    "loss = {}\n",
    "\n",
    "loss['train'] = []\n",
    "loss['valid'] = []\n",
    "loss['test'] = []\n",
    "best_valid_loss = np.inf"
   ]
  },
  {
   "cell_type": "code",
   "execution_count": 6,
   "id": "3bed9e92",
   "metadata": {},
   "outputs": [
    {
     "name": "stdout",
     "output_type": "stream",
     "text": [
      "tensor([[ 0.0000,  1.0000,  0.0000,  ..., -1.0005, -0.2181,  1.5756],\n",
      "        [ 1.0000,  1.0000,  0.0000,  ..., -0.5479, -0.9351, -0.2589],\n",
      "        [ 1.0000,  0.0000,  1.0000,  ...,  0.5089,  1.1540, -0.5031],\n",
      "        ...,\n",
      "        [ 1.0000,  1.0000,  1.0000,  ..., -0.5668,  1.1148,  0.9745],\n",
      "        [ 1.0000,  1.0000,  0.0000,  ...,  0.0659,  0.0696,  0.7243],\n",
      "        [ 0.0000,  1.0000,  0.0000,  ...,  1.8869, -0.4247,  0.8510]],\n",
      "       device='cuda:0')\n",
      "Setting up PyTorch plugin \"bias_act_plugin\"... Done.\n",
      "Setting up PyTorch plugin \"filtered_lrelu_plugin\"... Done.\n",
      "tensor([[9.9999e-01, 5.0539e-10, 9.9902e-01, 6.2888e-08, 4.3842e-08, 1.7732e-07,\n",
      "         8.2307e-09, 1.0000e+00, 9.6137e-01, 1.5383e-13],\n",
      "        [7.2168e-01, 1.5548e-11, 1.0000e+00, 1.5212e-07, 4.2468e-02, 1.1659e-06,\n",
      "         2.4406e-13, 9.9953e-01, 9.6359e-01, 3.6735e-10],\n",
      "        [4.8042e-02, 1.9135e-02, 9.9973e-01, 9.3433e-02, 3.6703e-04, 6.6802e-05,\n",
      "         2.3147e-04, 5.7330e-01, 1.3113e-05, 2.7768e-07],\n",
      "        [4.3887e-05, 9.6126e-01, 9.9986e-01, 9.9999e-01, 2.5277e-02, 4.2022e-11,\n",
      "         5.8073e-08, 9.5114e-01, 5.4247e-03, 1.5252e-06],\n",
      "        [3.4910e-01, 2.0867e-06, 1.0000e+00, 1.2472e-03, 4.1230e-02, 1.9818e-09,\n",
      "         4.4318e-11, 3.0742e-01, 1.0000e+00, 7.8544e-07],\n",
      "        [5.3990e-04, 7.4067e-05, 1.0000e+00, 1.5027e-04, 7.5778e-07, 9.7292e-01,\n",
      "         7.0492e-08, 6.2459e-01, 9.2370e-01, 1.5833e-07],\n",
      "        [5.8168e-01, 3.1305e-01, 7.7876e-01, 9.4311e-01, 6.0879e-04, 1.4280e-04,\n",
      "         8.5052e-02, 1.0000e+00, 2.3971e-05, 1.1668e-07],\n",
      "        [9.9662e-01, 4.6914e-08, 1.0000e+00, 9.1436e-08, 4.3521e-05, 9.7283e-01,\n",
      "         2.9650e-10, 1.0000e+00, 1.7960e-01, 8.6221e-11]])\n"
     ]
    },
    {
     "ename": "RuntimeError",
     "evalue": "element 0 of tensors does not require grad and does not have a grad_fn",
     "output_type": "error",
     "traceback": [
      "\u001b[0;31m---------------------------------------------------------------------------\u001b[0m",
      "\u001b[0;31mRuntimeError\u001b[0m                              Traceback (most recent call last)",
      "Cell \u001b[0;32mIn[6], line 13\u001b[0m\n\u001b[1;32m      9\u001b[0m preds, _ \u001b[38;5;241m=\u001b[39m pipeline\u001b[38;5;241m.\u001b[39mtransform(z\u001b[38;5;241m.\u001b[39mcpu())\n\u001b[1;32m     11\u001b[0m train_loss \u001b[38;5;241m=\u001b[39m criterion(preds\u001b[38;5;241m.\u001b[39mcuda(), y)\n\u001b[0;32m---> 13\u001b[0m \u001b[43mtrain_loss\u001b[49m\u001b[38;5;241;43m.\u001b[39;49m\u001b[43mbackward\u001b[49m\u001b[43m(\u001b[49m\u001b[43m)\u001b[49m\n\u001b[1;32m     14\u001b[0m optimizer\u001b[38;5;241m.\u001b[39mstep()\n\u001b[1;32m     15\u001b[0m optimizer\u001b[38;5;241m.\u001b[39mzero_grad()\n",
      "File \u001b[0;32m~/miniconda3/envs/DP/lib/python3.10/site-packages/torch/_tensor.py:488\u001b[0m, in \u001b[0;36mTensor.backward\u001b[0;34m(self, gradient, retain_graph, create_graph, inputs)\u001b[0m\n\u001b[1;32m    478\u001b[0m \u001b[38;5;28;01mif\u001b[39;00m has_torch_function_unary(\u001b[38;5;28mself\u001b[39m):\n\u001b[1;32m    479\u001b[0m     \u001b[38;5;28;01mreturn\u001b[39;00m handle_torch_function(\n\u001b[1;32m    480\u001b[0m         Tensor\u001b[38;5;241m.\u001b[39mbackward,\n\u001b[1;32m    481\u001b[0m         (\u001b[38;5;28mself\u001b[39m,),\n\u001b[0;32m   (...)\u001b[0m\n\u001b[1;32m    486\u001b[0m         inputs\u001b[38;5;241m=\u001b[39minputs,\n\u001b[1;32m    487\u001b[0m     )\n\u001b[0;32m--> 488\u001b[0m \u001b[43mtorch\u001b[49m\u001b[38;5;241;43m.\u001b[39;49m\u001b[43mautograd\u001b[49m\u001b[38;5;241;43m.\u001b[39;49m\u001b[43mbackward\u001b[49m\u001b[43m(\u001b[49m\n\u001b[1;32m    489\u001b[0m \u001b[43m    \u001b[49m\u001b[38;5;28;43mself\u001b[39;49m\u001b[43m,\u001b[49m\u001b[43m \u001b[49m\u001b[43mgradient\u001b[49m\u001b[43m,\u001b[49m\u001b[43m \u001b[49m\u001b[43mretain_graph\u001b[49m\u001b[43m,\u001b[49m\u001b[43m \u001b[49m\u001b[43mcreate_graph\u001b[49m\u001b[43m,\u001b[49m\u001b[43m \u001b[49m\u001b[43minputs\u001b[49m\u001b[38;5;241;43m=\u001b[39;49m\u001b[43minputs\u001b[49m\n\u001b[1;32m    490\u001b[0m \u001b[43m\u001b[49m\u001b[43m)\u001b[49m\n",
      "File \u001b[0;32m~/miniconda3/envs/DP/lib/python3.10/site-packages/torch/autograd/__init__.py:197\u001b[0m, in \u001b[0;36mbackward\u001b[0;34m(tensors, grad_tensors, retain_graph, create_graph, grad_variables, inputs)\u001b[0m\n\u001b[1;32m    192\u001b[0m     retain_graph \u001b[38;5;241m=\u001b[39m create_graph\n\u001b[1;32m    194\u001b[0m \u001b[38;5;66;03m# The reason we repeat same the comment below is that\u001b[39;00m\n\u001b[1;32m    195\u001b[0m \u001b[38;5;66;03m# some Python versions print out the first line of a multi-line function\u001b[39;00m\n\u001b[1;32m    196\u001b[0m \u001b[38;5;66;03m# calls in the traceback and some print out the last line\u001b[39;00m\n\u001b[0;32m--> 197\u001b[0m \u001b[43mVariable\u001b[49m\u001b[38;5;241;43m.\u001b[39;49m\u001b[43m_execution_engine\u001b[49m\u001b[38;5;241;43m.\u001b[39;49m\u001b[43mrun_backward\u001b[49m\u001b[43m(\u001b[49m\u001b[43m  \u001b[49m\u001b[38;5;66;43;03m# Calls into the C++ engine to run the backward pass\u001b[39;49;00m\n\u001b[1;32m    198\u001b[0m \u001b[43m    \u001b[49m\u001b[43mtensors\u001b[49m\u001b[43m,\u001b[49m\u001b[43m \u001b[49m\u001b[43mgrad_tensors_\u001b[49m\u001b[43m,\u001b[49m\u001b[43m \u001b[49m\u001b[43mretain_graph\u001b[49m\u001b[43m,\u001b[49m\u001b[43m \u001b[49m\u001b[43mcreate_graph\u001b[49m\u001b[43m,\u001b[49m\u001b[43m \u001b[49m\u001b[43minputs\u001b[49m\u001b[43m,\u001b[49m\n\u001b[1;32m    199\u001b[0m \u001b[43m    \u001b[49m\u001b[43mallow_unreachable\u001b[49m\u001b[38;5;241;43m=\u001b[39;49m\u001b[38;5;28;43;01mTrue\u001b[39;49;00m\u001b[43m,\u001b[49m\u001b[43m \u001b[49m\u001b[43maccumulate_grad\u001b[49m\u001b[38;5;241;43m=\u001b[39;49m\u001b[38;5;28;43;01mTrue\u001b[39;49;00m\u001b[43m)\u001b[49m\n",
      "\u001b[0;31mRuntimeError\u001b[0m: element 0 of tensors does not require grad and does not have a grad_fn"
     ]
    }
   ],
   "source": [
    "for epoch in range(num_epochs):\n",
    "    model.train()\n",
    "    start = time.time()\n",
    "    for batch, data in enumerate(train_dataloader):\n",
    "        x, y = data\n",
    "        x, y = x.cuda(), y.cuda()\n",
    "               \n",
    "        z = model(x, y)\n",
    "        preds, _ = pipeline.transform(z.cpu())\n",
    "        \n",
    "        train_loss = criterion(preds.cuda(), y)\n",
    "       \n",
    "        train_loss.backward()\n",
    "        optimizer.step()\n",
    "        optimizer.zero_grad()\n",
    "        \n",
    "        if batch % 100 == 0:\n",
    "            end = time.time()\n",
    "            loss, current = train_loss.item(), batch * len(x)\n",
    "            print(f'loss: {loss:>7f}  [{current:>5d}/{batch_size*len(x):>5d}] time: {end-start}')\n",
    "            start = time.time()\n",
    "\n",
    "    loss['train'].append(train_loss.data.item())\n",
    "    \n",
    "    model.eval()\n",
    "    with torch.no_grad():\n",
    "        for data in valid_dataloader:\n",
    "            x, y = data\n",
    "            x, y = x.cuda(), y.cuda()\n",
    "            \n",
    "            z = model(x, y)\n",
    "            preds, _ = pipeline.transform(z)\n",
    "            \n",
    "            val_loss = criterion(preds.cuda(), y)\n",
    "            \n",
    "    loss['valid'].append(val_loss.data.item())\n",
    "    \n",
    "    if loss['valid'][-1] < best_valid_loss:\n",
    "        torch.save(model.state_dict(), save_filename)\n",
    "        best_valid_loss = loss['valid'][-1]\n",
    "   \n",
    "    print(f'epoch [{epoch + 1}/{num_epochs}], loss:{loss[\"train\"][-1]}, valid_loss:{loss[\"valid\"][-1]}')"
   ]
  },
  {
   "cell_type": "code",
   "execution_count": null,
   "id": "2f8714de",
   "metadata": {},
   "outputs": [],
   "source": []
  }
 ],
 "metadata": {
  "kernelspec": {
   "display_name": "Python 3 (ipykernel)",
   "language": "python",
   "name": "python3"
  },
  "language_info": {
   "codemirror_mode": {
    "name": "ipython",
    "version": 3
   },
   "file_extension": ".py",
   "mimetype": "text/x-python",
   "name": "python",
   "nbconvert_exporter": "python",
   "pygments_lexer": "ipython3",
   "version": "3.10.9"
  }
 },
 "nbformat": 4,
 "nbformat_minor": 5
}
