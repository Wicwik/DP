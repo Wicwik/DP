{
 "cells": [
  {
   "cell_type": "code",
   "execution_count": 5,
   "id": "c91ae752",
   "metadata": {},
   "outputs": [],
   "source": [
    "import torch\n",
    "import torchvision\n",
    "from torch import nn\n",
    "from torch.utils.data import DataLoader, TensorDataset\n",
    "from torchvision import transforms\n",
    "from torchvision.datasets import MNIST"
   ]
  },
  {
   "cell_type": "markdown",
   "id": "2d058c31",
   "metadata": {},
   "source": [
    "## First we test the model on MNIST dataset"
   ]
  },
  {
   "cell_type": "code",
   "execution_count": 2,
   "id": "7a8f86ca",
   "metadata": {},
   "outputs": [
    {
     "name": "stdout",
     "output_type": "stream",
     "text": [
      "Downloading http://yann.lecun.com/exdb/mnist/train-images-idx3-ubyte.gz\n",
      "Downloading http://yann.lecun.com/exdb/mnist/train-images-idx3-ubyte.gz to ./mnist_data/MNIST/raw/train-images-idx3-ubyte.gz\n"
     ]
    },
    {
     "data": {
      "application/vnd.jupyter.widget-view+json": {
       "model_id": "7b110118898449a7b6d86540ac420826",
       "version_major": 2,
       "version_minor": 0
      },
      "text/plain": [
       "  0%|          | 0/9912422 [00:00<?, ?it/s]"
      ]
     },
     "metadata": {},
     "output_type": "display_data"
    },
    {
     "name": "stdout",
     "output_type": "stream",
     "text": [
      "Extracting ./mnist_data/MNIST/raw/train-images-idx3-ubyte.gz to ./mnist_data/MNIST/raw\n",
      "\n",
      "Downloading http://yann.lecun.com/exdb/mnist/train-labels-idx1-ubyte.gz\n",
      "Downloading http://yann.lecun.com/exdb/mnist/train-labels-idx1-ubyte.gz to ./mnist_data/MNIST/raw/train-labels-idx1-ubyte.gz\n"
     ]
    },
    {
     "data": {
      "application/vnd.jupyter.widget-view+json": {
       "model_id": "cea1b4ed2a2d43e08320b44937accaf4",
       "version_major": 2,
       "version_minor": 0
      },
      "text/plain": [
       "  0%|          | 0/28881 [00:00<?, ?it/s]"
      ]
     },
     "metadata": {},
     "output_type": "display_data"
    },
    {
     "name": "stdout",
     "output_type": "stream",
     "text": [
      "Extracting ./mnist_data/MNIST/raw/train-labels-idx1-ubyte.gz to ./mnist_data/MNIST/raw\n",
      "\n",
      "Downloading http://yann.lecun.com/exdb/mnist/t10k-images-idx3-ubyte.gz\n",
      "Downloading http://yann.lecun.com/exdb/mnist/t10k-images-idx3-ubyte.gz to ./mnist_data/MNIST/raw/t10k-images-idx3-ubyte.gz\n"
     ]
    },
    {
     "data": {
      "application/vnd.jupyter.widget-view+json": {
       "model_id": "8f95bd9c0a054a748262096944bbf8b7",
       "version_major": 2,
       "version_minor": 0
      },
      "text/plain": [
       "  0%|          | 0/1648877 [00:00<?, ?it/s]"
      ]
     },
     "metadata": {},
     "output_type": "display_data"
    },
    {
     "name": "stdout",
     "output_type": "stream",
     "text": [
      "Extracting ./mnist_data/MNIST/raw/t10k-images-idx3-ubyte.gz to ./mnist_data/MNIST/raw\n",
      "\n",
      "Downloading http://yann.lecun.com/exdb/mnist/t10k-labels-idx1-ubyte.gz\n",
      "Downloading http://yann.lecun.com/exdb/mnist/t10k-labels-idx1-ubyte.gz to ./mnist_data/MNIST/raw/t10k-labels-idx1-ubyte.gz\n"
     ]
    },
    {
     "data": {
      "application/vnd.jupyter.widget-view+json": {
       "model_id": "f7d98a27403d486e93da97024d2b3d87",
       "version_major": 2,
       "version_minor": 0
      },
      "text/plain": [
       "  0%|          | 0/4542 [00:00<?, ?it/s]"
      ]
     },
     "metadata": {},
     "output_type": "display_data"
    },
    {
     "name": "stdout",
     "output_type": "stream",
     "text": [
      "Extracting ./mnist_data/MNIST/raw/t10k-labels-idx1-ubyte.gz to ./mnist_data/MNIST/raw\n",
      "\n"
     ]
    }
   ],
   "source": [
    "img_transform = transforms.Compose([\n",
    "    transforms.ToTensor(),\n",
    "    transforms.Normalize([0.5], [0.5])\n",
    "])\n",
    "\n",
    "dataset = MNIST('./mnist_data', transform=img_transform, download=True)"
   ]
  },
  {
   "cell_type": "code",
   "execution_count": 16,
   "id": "0087bf53",
   "metadata": {},
   "outputs": [],
   "source": [
    "class LAutoencoder(nn.Module):\n",
    "    def __init__(self):\n",
    "        super().__init__()\n",
    "        self.encoder = nn.Sequential(\n",
    "#             nn.Linear(28 * 28, 128),\n",
    "            nn.Linear(512,128),\n",
    "            nn.ReLU(True),\n",
    "            nn.Linear(128, 64),\n",
    "            nn.ReLU(True), \n",
    "            nn.Linear(64, 12), \n",
    "            nn.ReLU(True), \n",
    "            nn.Linear(12, 2))\n",
    "        self.decoder = nn.Sequential(\n",
    "            nn.Linear(2, 12),\n",
    "            nn.ReLU(True),\n",
    "            nn.Linear(12, 64),\n",
    "            nn.ReLU(True),\n",
    "            nn.Linear(64, 128),\n",
    "            nn.ReLU(True), \n",
    "#             nn.Linear(128, 28 * 28),\n",
    "            nn.Linear(128, 512),\n",
    "            nn.Tanh() )            \n",
    "        \n",
    "    def forward(self, x):\n",
    "        latent = self.encoder(x)\n",
    "        x = self.decoder(latent)\n",
    "        return x,latent"
   ]
  },
  {
   "cell_type": "code",
   "execution_count": 4,
   "id": "e391997c",
   "metadata": {},
   "outputs": [
    {
     "name": "stdout",
     "output_type": "stream",
     "text": [
      "epoch [1/10], loss:0.20798112452030182\n",
      "epoch [2/10], loss:0.18242456018924713\n",
      "epoch [3/10], loss:0.16543562710285187\n",
      "epoch [4/10], loss:0.15606893599033356\n",
      "epoch [5/10], loss:0.17223048210144043\n",
      "epoch [6/10], loss:0.15534907579421997\n",
      "epoch [7/10], loss:0.1619858294725418\n",
      "epoch [8/10], loss:0.1725073605775833\n",
      "epoch [9/10], loss:0.1606210172176361\n",
      "epoch [10/10], loss:0.16098162531852722\n"
     ]
    }
   ],
   "source": [
    "num_epochs = 10\n",
    "batch_size = 128\n",
    "learning_rate = 2e-3\n",
    "dataloader = DataLoader(dataset, batch_size=batch_size, shuffle=True)\n",
    "\n",
    "model = LAutoencoder()\n",
    "model.cuda()\n",
    "criterion = nn.MSELoss()\n",
    "optimizer = torch.optim.AdamW(\n",
    "    model.parameters(), lr=learning_rate)\n",
    "\n",
    "for epoch in range(num_epochs):\n",
    "    for data in dataloader:\n",
    "        img, labels = data\n",
    "        img = img.view(img.size(0), -1).cuda()  \n",
    "               \n",
    "        output,latent = model(img)\n",
    "        loss = criterion(output, img)\n",
    "       \n",
    "        loss.backward()\n",
    "        optimizer.step()\n",
    "        optimizer.zero_grad()\n",
    "    \n",
    "    print(f'epoch [{epoch + 1}/{num_epochs}], loss:{loss.data.item()}')"
   ]
  },
  {
   "cell_type": "markdown",
   "id": "1cfb9850",
   "metadata": {},
   "source": [
    "## Lets try ours latents dataset :)"
   ]
  },
  {
   "cell_type": "code",
   "execution_count": 7,
   "id": "9824e7fd",
   "metadata": {},
   "outputs": [],
   "source": [
    "data_path = '/home/robert/data/diploma-thesis/datasets/stylegan3/tpsi_1/latents/sample_z.h5'\n",
    "labels_path = '/home/robert/data/diploma-thesis/predictions/stylegan3/tpsi_1/resnet34_eyeglasses.pkl'"
   ]
  },
  {
   "cell_type": "code",
   "execution_count": 11,
   "id": "1478754b",
   "metadata": {},
   "outputs": [],
   "source": [
    "import pickle, h5py\n",
    "\n",
    "labels = None\n",
    "with open(labels_path,'rb') as f:\n",
    "    labels = torch.Tensor(pickle.load(f))\n",
    "\n",
    "data = None\n",
    "with h5py.File(data_path, 'r') as f:\n",
    "    data = torch.Tensor(f['z'][:])\n",
    "\n",
    "dataset = TensorDataset(data,labels)"
   ]
  },
  {
   "cell_type": "code",
   "execution_count": 17,
   "id": "c33ea1a2",
   "metadata": {},
   "outputs": [
    {
     "name": "stdout",
     "output_type": "stream",
     "text": [
      "epoch [1/10], loss:0.9959666728973389\n",
      "epoch [2/10], loss:0.9972504377365112\n",
      "epoch [3/10], loss:0.9981735348701477\n",
      "epoch [4/10], loss:0.9962769746780396\n",
      "epoch [5/10], loss:0.991364598274231\n",
      "epoch [6/10], loss:0.9933990240097046\n",
      "epoch [7/10], loss:0.9971369504928589\n",
      "epoch [8/10], loss:0.9857909679412842\n",
      "epoch [9/10], loss:0.9908149242401123\n",
      "epoch [10/10], loss:0.9904171228408813\n"
     ]
    }
   ],
   "source": [
    "num_epochs = 10\n",
    "batch_size = 128\n",
    "learning_rate = 2e-3\n",
    "dataloader = DataLoader(dataset, batch_size=batch_size, shuffle=True)\n",
    "\n",
    "model = LAutoencoder()\n",
    "model.cuda()\n",
    "criterion = nn.MSELoss()\n",
    "optimizer = torch.optim.AdamW(\n",
    "    model.parameters(), lr=learning_rate)\n",
    "\n",
    "for epoch in range(num_epochs):\n",
    "    for data in dataloader:\n",
    "        img, labels = data\n",
    "        img = img.view(img.size(0), -1).cuda()  \n",
    "               \n",
    "        output,latent = model(img)\n",
    "        loss = criterion(output, img)\n",
    "       \n",
    "        loss.backward()\n",
    "        optimizer.step()\n",
    "        optimizer.zero_grad()\n",
    "    \n",
    "    print(f'epoch [{epoch + 1}/{num_epochs}], loss:{loss.data.item()}')"
   ]
  },
  {
   "cell_type": "code",
   "execution_count": 28,
   "id": "3bb1c9da",
   "metadata": {},
   "outputs": [
    {
     "data": {
      "text/plain": [
       "tensor(-5.0598e-05)"
      ]
     },
     "execution_count": 28,
     "metadata": {},
     "output_type": "execute_result"
    }
   ],
   "source": [
    "dataset[:][0].mean()"
   ]
  },
  {
   "cell_type": "code",
   "execution_count": 29,
   "id": "9f84b38c",
   "metadata": {},
   "outputs": [
    {
     "data": {
      "text/plain": [
       "tensor(1.0000)"
      ]
     },
     "execution_count": 29,
     "metadata": {},
     "output_type": "execute_result"
    }
   ],
   "source": [
    "dataset[:][0].std()"
   ]
  }
 ],
 "metadata": {
  "kernelspec": {
   "display_name": "Python 3 (ipykernel)",
   "language": "python",
   "name": "python3"
  },
  "language_info": {
   "codemirror_mode": {
    "name": "ipython",
    "version": 3
   },
   "file_extension": ".py",
   "mimetype": "text/x-python",
   "name": "python",
   "nbconvert_exporter": "python",
   "pygments_lexer": "ipython3",
   "version": "3.10.9"
  }
 },
 "nbformat": 4,
 "nbformat_minor": 5
}
