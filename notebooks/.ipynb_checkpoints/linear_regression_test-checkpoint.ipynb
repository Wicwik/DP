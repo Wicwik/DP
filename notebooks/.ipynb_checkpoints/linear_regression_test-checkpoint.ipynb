{
 "cells": [
  {
   "cell_type": "code",
   "execution_count": 17,
   "id": "6cd7f999",
   "metadata": {},
   "outputs": [],
   "source": [
    "import sys\n",
    "sys.path.append('..')\n",
    "sys.path.append('../stylegan3')\n",
    "\n",
    "import pickle, h5py\n",
    "\n",
    "import matplotlib.pyplot as plt\n",
    "import numpy as np\n",
    "\n",
    "from stylegan_generator import StyleGANGenerator"
   ]
  },
  {
   "cell_type": "code",
   "execution_count": 18,
   "id": "1bcfa262",
   "metadata": {},
   "outputs": [],
   "source": [
    "_attributes = ['Attractive', 'Eyeglasses', 'No_Beard', 'Male', 'Black_Hair', 'Blond_Hair', 'Mustache', 'Young', 'Smiling', 'Bald']\n",
    "_noise_path = '/home/robert/data/diploma-thesis/datasets/stylegan3/tpsi_1/latents/sample_z.h5'\n",
    "_predictions_path = '/home/robert/data/diploma-thesis/predictions/stylegan3/tpsi_07/resnet34_10attr.pkl'\n",
    "_feature_direction_path = 'feature_direction_inceptionv3_5attr_tanh_normalized.pkl'\n",
    "\n",
    "network_pkl = 'https://api.ngc.nvidia.com/v2/models/nvidia/research/stylegan3/versions/1/files/stylegan3-r-ffhqu-1024x1024.pkl'\n",
    "generator = StyleGANGenerator(network_pkl)"
   ]
  },
  {
   "cell_type": "code",
   "execution_count": 19,
   "id": "756f364a",
   "metadata": {},
   "outputs": [],
   "source": [
    "def find_feature_axis(z, y, method='linear', **kwargs_model):\n",
    "    if method == 'linear':\n",
    "        # train linear regression without transforming labels\n",
    "        model = linear_model.LinearRegression(**kwargs_model)\n",
    "        model.fit(z, y)\n",
    "    elif method == 'tanh':\n",
    "        def arctanh_clip(y):\n",
    "            return np.arctanh(np.clip(y, np.tanh(0), np.tanh(3)))\n",
    "\n",
    "        # train linear regression with labels transformed to arctanh\n",
    "        model = linear_model.LinearRegression(**kwargs_model)\n",
    "        model.fit(z, arctanh_clip(y))\n",
    "\n",
    "    return model.coef_.transpose() # return transposed coeficients\n",
    "\n",
    "def normalize_feature_axis(feature_slope):\n",
    "    return feature_slope / np.linalg.norm(feature_slope, ord=2, axis=0, keepdims=True)"
   ]
  },
  {
   "cell_type": "code",
   "execution_count": 9,
   "id": "652596c3",
   "metadata": {},
   "outputs": [],
   "source": [
    "with open(_predictions_path, 'rb') as f:\n",
    "    predictions = pickle.load(f)"
   ]
  },
  {
   "cell_type": "code",
   "execution_count": 10,
   "id": "286cfa57",
   "metadata": {},
   "outputs": [],
   "source": [
    "with h5py.File(_noise_path, 'r') as f:\n",
    "    z = f['z'][:]"
   ]
  },
  {
   "cell_type": "code",
   "execution_count": 20,
   "id": "2f3d636c",
   "metadata": {},
   "outputs": [
    {
     "ename": "AttributeError",
     "evalue": "'StyleGANGenerator' object has no attribute 'get_images'",
     "output_type": "error",
     "traceback": [
      "\u001b[0;31m---------------------------------------------------------------------------\u001b[0m",
      "\u001b[0;31mAttributeError\u001b[0m                            Traceback (most recent call last)",
      "Cell \u001b[0;32mIn[20], line 4\u001b[0m\n\u001b[1;32m      1\u001b[0m np\u001b[38;5;241m.\u001b[39mset_printoptions(formatter\u001b[38;5;241m=\u001b[39m{\u001b[38;5;124m'\u001b[39m\u001b[38;5;124mfloat_kind\u001b[39m\u001b[38;5;124m'\u001b[39m:\u001b[38;5;124m\"\u001b[39m\u001b[38;5;132;01m{:.6f}\u001b[39;00m\u001b[38;5;124m\"\u001b[39m\u001b[38;5;241m.\u001b[39mformat})\n\u001b[1;32m      3\u001b[0m image_n \u001b[38;5;241m=\u001b[39m \u001b[38;5;241m154841\u001b[39m\n\u001b[0;32m----> 4\u001b[0m img \u001b[38;5;241m=\u001b[39m \u001b[43mgenerator\u001b[49m\u001b[38;5;241;43m.\u001b[39;49m\u001b[43mget_images\u001b[49m(np\u001b[38;5;241m.\u001b[39mreshape(z[image_n], (\u001b[38;5;241m1\u001b[39m,\u001b[38;5;241m512\u001b[39m)))\n\u001b[1;32m      5\u001b[0m plt\u001b[38;5;241m.\u001b[39mtitle(predictions[image_n])\n\u001b[1;32m      6\u001b[0m plt\u001b[38;5;241m.\u001b[39maxis(\u001b[38;5;124m'\u001b[39m\u001b[38;5;124moff\u001b[39m\u001b[38;5;124m'\u001b[39m)\n",
      "\u001b[0;31mAttributeError\u001b[0m: 'StyleGANGenerator' object has no attribute 'get_images'"
     ]
    }
   ],
   "source": [
    "np.set_printoptions(formatter={'float_kind':\"{:.6f}\".format})\n",
    "\n",
    "image_n = 154841\n",
    "img = generator.generate_images(np.reshape(z[image_n], (1,512)), truncation_psi=0.7)\n",
    "plt.title(predictions[image_n])\n",
    "plt.axis('off')\n",
    "plt.imshow(img[0]/255)"
   ]
  },
  {
   "cell_type": "code",
   "execution_count": null,
   "id": "8716026e",
   "metadata": {},
   "outputs": [],
   "source": [
    "feature_slope = axis.find_feature_axis(z, predictions, method='tanh')"
   ]
  },
  {
   "cell_type": "code",
   "execution_count": null,
   "id": "dc4fca1f",
   "metadata": {},
   "outputs": [],
   "source": [
    "_normalize_feature_direction = True\n",
    "if _normalize_feature_direction:\n",
    "    feature_direction = axis.normalize_feature_axis(feature_slope)\n",
    "else:\n",
    "    feature_direction = feature_slope"
   ]
  }
 ],
 "metadata": {
  "kernelspec": {
   "display_name": "Python 3 (ipykernel)",
   "language": "python",
   "name": "python3"
  },
  "language_info": {
   "codemirror_mode": {
    "name": "ipython",
    "version": 3
   },
   "file_extension": ".py",
   "mimetype": "text/x-python",
   "name": "python",
   "nbconvert_exporter": "python",
   "pygments_lexer": "ipython3",
   "version": "3.10.9"
  }
 },
 "nbformat": 4,
 "nbformat_minor": 5
}
