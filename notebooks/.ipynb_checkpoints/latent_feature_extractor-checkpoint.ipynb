{
 "cells": [
  {
   "cell_type": "code",
   "execution_count": 1,
   "id": "7ece5e45",
   "metadata": {},
   "outputs": [],
   "source": [
    "from torch import nn\n",
    "from torch.utils.data import DataLoader, TensorDataset, random_split\n",
    "from torchmetrics.classification import BinaryAccuracy\n",
    "\n",
    "import numpy as np\n",
    "import torch\n",
    "import h5py\n",
    "import time\n",
    "import sys\n",
    "sys.path.append('..')\n",
    "sys.path.append('../stylegan3')\n",
    "\n",
    "from models.LatentFeatureExtractor import LatentFeatureExtractor\n",
    "\n",
    "torch.set_printoptions(sci_mode=False)"
   ]
  },
  {
   "cell_type": "code",
   "execution_count": 2,
   "id": "8003de0d",
   "metadata": {},
   "outputs": [],
   "source": [
    "torch.manual_seed(0)\n",
    "data_path = '/home/robert/data/diploma-thesis/datasets/stylegan3/tpsi_1/latents/sample_z.h5'\n",
    "n_classes = 10\n",
    "\n",
    "data = None\n",
    "with h5py.File(data_path, 'r') as f:\n",
    "    data = f['z'][:]\n",
    "\n",
    "dataset = TensorDataset(torch.Tensor(data),torch.randint(0,2,(len(data), n_classes)).to(torch.float32))\n",
    "train_data, valid_data, test_data = random_split(dataset, [0.8, 0.1, 0.1])"
   ]
  },
  {
   "cell_type": "code",
   "execution_count": 3,
   "id": "3dc5edb8",
   "metadata": {},
   "outputs": [
    {
     "data": {
      "text/plain": [
       "(256000, 512)"
      ]
     },
     "execution_count": 3,
     "metadata": {},
     "output_type": "execute_result"
    }
   ],
   "source": [
    "data.shape"
   ]
  },
  {
   "cell_type": "code",
   "execution_count": 4,
   "id": "0e198d9c",
   "metadata": {},
   "outputs": [],
   "source": [
    "batch_size = 8\n",
    "num_epochs = 10\n",
    "learning_rate = 1e-4\n",
    "train_dataloader = DataLoader(train_data, batch_size=batch_size, shuffle=True)\n",
    "valid_dataloader = DataLoader(valid_data, batch_size=batch_size, shuffle=True)\n",
    "test_dataloader = DataLoader(test_data, batch_size=batch_size, shuffle=False)\n",
    "\n",
    "accuracy = BinaryAccuracy()\n",
    "\n",
    "model = LatentFeatureExtractor(n_classes=n_classes).cuda()\n",
    "criterion = nn.MSELoss()\n",
    "optimizer = torch.optim.Adam(\n",
    "    model.parameters(), lr=learning_rate)\n",
    "\n",
    "save_filename = 'latent_feature_extractor_a.pt'\n",
    "\n",
    "loss_hist = {}\n",
    "accuracy_hist = {}\n",
    "\n",
    "loss_hist['train'] = []\n",
    "loss_hist['valid'] = []\n",
    "loss_hist['test'] = []\n",
    "accuracy_hist['train'] = []\n",
    "accuracy_hist['valid'] = []\n",
    "accuracy_hist['test'] = []\n",
    "best_valid_loss = np.inf"
   ]
  },
  {
   "cell_type": "code",
   "execution_count": 5,
   "id": "3bed9e92",
   "metadata": {},
   "outputs": [
    {
     "name": "stdout",
     "output_type": "stream",
     "text": [
      "Epoch 0:\n",
      "Setting up PyTorch plugin \"bias_act_plugin\"... Done.\n",
      "Setting up PyTorch plugin \"filtered_lrelu_plugin\"... Done.\n",
      "loss: 0.416806 acc: 0.5874999761581421 [    0/204800] time: 1.2996187210083008\n",
      "loss: 0.536213 acc: 0.42500001192092896 [   80/204800] time: 7.3612377643585205\n",
      "loss: 0.445213 acc: 0.5249999761581421 [  160/204800] time: 7.323360204696655\n",
      "loss: 0.407667 acc: 0.5874999761581421 [  240/204800] time: 7.518978118896484\n",
      "loss: 0.472019 acc: 0.512499988079071 [  320/204800] time: 7.614176273345947\n",
      "loss: 0.485736 acc: 0.48750001192092896 [  400/204800] time: 7.525393486022949\n",
      "loss: 0.469791 acc: 0.512499988079071 [  480/204800] time: 7.479475975036621\n",
      "loss: 0.505205 acc: 0.4375 [  560/204800] time: 7.390590667724609\n",
      "loss: 0.434583 acc: 0.5249999761581421 [  640/204800] time: 7.3381571769714355\n",
      "loss: 0.443591 acc: 0.48750001192092896 [  720/204800] time: 7.45112681388855\n",
      "loss: 0.512557 acc: 0.4625000059604645 [  800/204800] time: 7.633774757385254\n",
      "loss: 0.582507 acc: 0.38749998807907104 [  880/204800] time: 7.360380172729492\n"
     ]
    },
    {
     "ename": "KeyboardInterrupt",
     "evalue": "",
     "output_type": "error",
     "traceback": [
      "\u001b[0;31m---------------------------------------------------------------------------\u001b[0m",
      "\u001b[0;31mKeyboardInterrupt\u001b[0m                         Traceback (most recent call last)",
      "Cell \u001b[0;32mIn[5], line 18\u001b[0m\n\u001b[1;32m     15\u001b[0m preds \u001b[38;5;241m=\u001b[39m model(x, y)\n\u001b[1;32m     17\u001b[0m loss \u001b[38;5;241m=\u001b[39m criterion(preds, y)\n\u001b[0;32m---> 18\u001b[0m acc \u001b[38;5;241m=\u001b[39m accuracy(\u001b[43mpreds\u001b[49m\u001b[38;5;241;43m.\u001b[39;49m\u001b[43mcpu\u001b[49m\u001b[43m(\u001b[49m\u001b[43m)\u001b[49m, y\u001b[38;5;241m.\u001b[39mcpu())\n\u001b[1;32m     20\u001b[0m train_loss \u001b[38;5;241m+\u001b[39m\u001b[38;5;241m=\u001b[39m loss\u001b[38;5;241m.\u001b[39mitem()\n\u001b[1;32m     21\u001b[0m train_acc \u001b[38;5;241m+\u001b[39m\u001b[38;5;241m=\u001b[39m acc\n",
      "\u001b[0;31mKeyboardInterrupt\u001b[0m: "
     ]
    }
   ],
   "source": [
    "train_loss, train_acc = 0, 0\n",
    "valid_loss, valid_acc = 0, 0\n",
    "test_loss, test_acc = 0, 0\n",
    "\n",
    "for epoch in range(num_epochs):\n",
    "    num_batches = len(train_dataloader)\n",
    "    \n",
    "    print(f'Epoch {epoch}:')\n",
    "    model.train()\n",
    "    start = time.time()\n",
    "    for batch, data in enumerate(train_dataloader):\n",
    "        x, y = data\n",
    "        x, y = x.cuda(), y.cuda()\n",
    "               \n",
    "        preds = model(x, y)\n",
    "        \n",
    "        loss = criterion(preds, y)\n",
    "        acc = accuracy(preds.cpu(), y.cpu())\n",
    "        \n",
    "        train_loss += loss.item()\n",
    "        train_acc += acc\n",
    "       \n",
    "        loss.backward()\n",
    "        optimizer.step()\n",
    "        optimizer.zero_grad()\n",
    "        \n",
    "        if batch % 10 == 0:\n",
    "            end = time.time()\n",
    "            loss, current = loss.item(), batch * len(x)\n",
    "            print(f'loss: {loss:>7f} acc: {acc} [{current:>5d}/{batch_size*num_batches:>5d}] time: {end-start}')\n",
    "            start = time.time()\n",
    "\n",
    "    train_loss /= num_batches\n",
    "    train_acc /= num_batches\n",
    "    loss_hist['train'].append(train_loss)\n",
    "    accuracy_hist['train'].append(train_acc)\n",
    "    \n",
    "    num_batches = len(valid_dataloader)\n",
    "    model.eval()\n",
    "    with torch.no_grad():\n",
    "        for data in valid_dataloader:\n",
    "            x, y = data\n",
    "            x, y = x.cuda(), y.cuda()\n",
    "            \n",
    "            preds = model(x, y)\n",
    "            \n",
    "            valid_loss += criterion(preds, y).item()\n",
    "            valid_acc += accuracy(preds.cpu(), y.cpu())\n",
    "    \n",
    "    valid_loss /= num_batches\n",
    "    valid_acc /= num_batches\n",
    "    loss_hist['valid'].append(valid_loss)\n",
    "    accuracy_hist['valid'].append(valid_acc)\n",
    "    \n",
    "    if loss_hist['valid'][-1] < best_valid_loss:\n",
    "        torch.save(model.state_dict(), save_filename)\n",
    "        best_valid_loss = loss_hist['valid'][-1]\n",
    "   \n",
    "    print(f'epoch [{epoch + 1}/{num_epochs}], loss:{loss_hist[\"train\"][-1]}, valid_loss:{loss_hist[\"valid\"][-1]}, acc:{accuracy_hist[\"train\"][-1]}, valid_acc:{accuracy_hist[\"valid\"][-1]}')"
   ]
  },
  {
   "cell_type": "code",
   "execution_count": null,
   "id": "2f8714de",
   "metadata": {},
   "outputs": [],
   "source": []
  },
  {
   "cell_type": "code",
   "execution_count": null,
   "id": "f6c7e8f7",
   "metadata": {},
   "outputs": [],
   "source": []
  },
  {
   "cell_type": "code",
   "execution_count": null,
   "id": "e1d4c3af",
   "metadata": {},
   "outputs": [],
   "source": []
  }
 ],
 "metadata": {
  "kernelspec": {
   "display_name": "Python 3 (ipykernel)",
   "language": "python",
   "name": "python3"
  },
  "language_info": {
   "codemirror_mode": {
    "name": "ipython",
    "version": 3
   },
   "file_extension": ".py",
   "mimetype": "text/x-python",
   "name": "python",
   "nbconvert_exporter": "python",
   "pygments_lexer": "ipython3",
   "version": "3.10.9"
  }
 },
 "nbformat": 4,
 "nbformat_minor": 5
}
