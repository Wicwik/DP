{
 "cells": [
  {
   "cell_type": "code",
   "execution_count": 1,
   "id": "bcef0ebc",
   "metadata": {},
   "outputs": [],
   "source": [
    "from torch.utils.data import DataLoader, TensorDataset, random_split\n",
    "\n",
    "import numpy as np\n",
    "import torch\n",
    "import h5py\n",
    "import sys\n",
    "sys.path.append('..')\n",
    "sys.path.append('../stylegan3')\n",
    "\n",
    "from utils.L2FPipeline import L2FPipeline\n",
    "from stylegan_generator import StyleGANGenerator\n",
    "from models.MultilabelResnetClassifier import MultilabelResnetClassifier\n",
    "from models.LatentFeatureExtractor import LatentFeatureExtractor"
   ]
  },
  {
   "cell_type": "code",
   "execution_count": 3,
   "id": "1ac55c72",
   "metadata": {},
   "outputs": [
    {
     "data": {
      "text/plain": [
       "<torch._C.Generator at 0x7f1860548650>"
      ]
     },
     "execution_count": 3,
     "metadata": {},
     "output_type": "execute_result"
    }
   ],
   "source": [
    "torch.manual_seed(0)"
   ]
  },
  {
   "cell_type": "code",
   "execution_count": 10,
   "id": "0cf408d7",
   "metadata": {},
   "outputs": [
    {
     "name": "stdout",
     "output_type": "stream",
     "text": [
      "(tensor([ 0.0863, -0.2087, -0.0529,  1.9157, -0.7995, -1.2684, -0.7082, -0.4558,\n",
      "        -0.4521,  0.9718,  0.8288,  0.5547, -0.8654, -0.0424, -1.6860, -0.4464,\n",
      "        -0.1741,  1.5128,  0.0182, -1.3632, -0.5289,  1.5866,  2.2250, -0.5918,\n",
      "         0.6909, -0.7142,  0.4625, -1.2063,  0.6286,  1.0684,  0.0952, -0.8414,\n",
      "        -0.0596,  0.2289,  0.2742, -0.4522,  2.3054,  1.0486, -1.0632,  1.8720,\n",
      "        -0.2277,  0.7040,  0.9490,  0.5992,  0.6675, -0.8961,  2.5029, -0.9136,\n",
      "         0.6681, -2.6288, -0.3084,  0.6764,  1.1316, -0.5700, -0.6827,  0.6213,\n",
      "        -1.0184,  0.0625,  0.3167,  0.5707, -0.6916, -2.1364,  2.3244,  1.0641,\n",
      "         0.2128, -0.0191,  0.2481, -1.8346, -0.1900, -1.5825, -0.5059,  2.1864,\n",
      "        -0.7260,  1.1937,  0.6262, -2.6140,  0.6539, -1.5208,  0.0103, -1.4978,\n",
      "        -0.5254, -2.6559, -1.9320,  1.3012,  0.1731, -1.4431, -2.0771,  0.3184,\n",
      "         0.6851, -1.2064,  0.1635,  0.6987,  0.4779, -0.8020,  1.0947, -0.2922,\n",
      "         1.3414, -1.4261, -1.7614, -0.4801,  0.8181,  2.0983,  1.6568,  0.2862,\n",
      "        -1.2465, -0.5948, -1.2790,  0.0095, -0.1949, -0.9083,  0.9689,  2.0674,\n",
      "        -0.2009,  1.8992,  0.6744,  0.8871,  0.9910, -3.7174,  1.5613,  2.3372,\n",
      "        -2.6083, -0.9066,  0.6743, -0.9357, -1.5971, -0.6363,  0.6191, -2.0210,\n",
      "        -0.2685, -0.2025,  0.3399,  0.6259, -1.1906,  1.4133, -0.9872, -2.0911,\n",
      "        -1.4332, -0.5793, -0.9280,  0.2391,  0.8287,  1.1352, -0.2077,  1.0550,\n",
      "         1.3384, -1.8687,  0.4132,  1.0181, -0.5957, -0.9947, -1.5940,  1.1103,\n",
      "        -0.1066,  0.3211, -1.3619, -0.4411,  1.8980,  0.5515, -1.4418, -1.7576,\n",
      "        -0.5759,  0.8725, -0.4244, -0.2975,  1.0748, -0.2722, -0.0445,  0.8255,\n",
      "        -0.5659, -0.9181, -1.5262,  0.7092, -0.5065,  0.1152, -0.4132,  0.6952,\n",
      "        -0.7596,  1.0682, -1.3251, -0.5022, -1.2115, -1.0475, -0.8153,  0.2842,\n",
      "         0.0630, -0.0102, -1.1683,  0.5025,  0.3789, -0.5724, -0.7762,  1.3282,\n",
      "         0.5745, -0.3165,  1.0359,  0.6576,  1.2300,  0.0820,  0.9630, -0.2543,\n",
      "         0.1998,  0.0559, -1.0504, -0.3473, -0.2979, -0.0099,  1.2920,  0.2273,\n",
      "        -1.0782,  0.4022, -0.5755,  1.2153,  0.1518, -1.6809,  0.4843, -0.8744,\n",
      "         0.8479,  0.9132,  0.9834,  0.4902, -0.3028,  0.7242, -0.1618,  0.3254,\n",
      "        -1.2974, -0.2877, -0.2030, -0.6276, -0.8891, -1.0300,  1.2936,  1.3228,\n",
      "         1.1182, -1.0438,  0.1350,  0.2560, -0.9065,  0.0649, -1.2307, -0.0675,\n",
      "         1.1899, -1.7485, -1.7034,  0.0917,  1.1809, -0.7851, -1.2016, -1.0147,\n",
      "         0.4993, -1.0122,  0.7907, -0.4929, -0.7036,  0.4810, -0.3587,  0.6368,\n",
      "        -0.6079,  0.3930,  1.6364, -0.4303, -1.0940, -1.3262, -0.7285, -0.8763,\n",
      "         0.1687, -0.5396, -0.9725,  0.0732,  0.5291,  0.6150, -1.4075, -0.7921,\n",
      "        -0.1546,  0.2805, -0.7120, -1.2572, -0.6247, -0.8415, -1.6328, -0.8275,\n",
      "         0.4598,  1.0070, -0.0062,  0.1777,  1.9855, -0.9624, -1.4757, -1.2330,\n",
      "         1.8053, -0.1459,  0.6484, -0.3299,  0.7200, -1.2244,  2.8846, -1.0805,\n",
      "        -1.2430, -1.1357, -0.8246, -0.3070, -1.9385, -0.4736,  1.4600, -0.7203,\n",
      "        -0.5346,  1.2772, -0.9384, -1.1239,  0.4000, -0.1700, -0.5931, -0.1467,\n",
      "         0.4896,  0.0234,  0.1788, -0.0836,  0.6643, -0.4748,  1.3156,  1.3945,\n",
      "         0.1414, -0.9139, -1.6199, -1.9396,  1.0520,  0.3961, -0.5833, -0.0614,\n",
      "         1.0423, -0.0712, -0.2238,  0.2442, -2.6900, -0.0478,  1.4121,  0.1376,\n",
      "         0.5354, -1.5418,  0.0402, -0.9273, -1.0607, -0.4491, -0.1149, -0.5334,\n",
      "        -0.4185, -1.0742,  1.3410,  0.0479,  0.5848,  0.4641, -1.2610,  0.2859,\n",
      "        -0.6870,  0.1601,  0.4140,  1.0545, -0.6067,  0.0632,  1.2966, -0.4825,\n",
      "         0.2156,  0.6081,  1.0236, -0.0271,  0.2104, -0.7689, -1.6180,  0.7928,\n",
      "         0.9540, -0.4861, -0.8943, -0.8093, -0.6860, -1.2860,  1.9301,  0.8262,\n",
      "        -0.5558, -2.4292, -1.1705,  0.7073, -1.5544, -0.8670, -2.3276,  0.0369,\n",
      "         0.2955, -0.2545, -0.1318,  1.4395, -1.2324, -2.4096, -1.8183,  0.7699,\n",
      "        -0.1351,  0.5098, -1.9258,  0.0962,  2.0894, -0.8825,  1.1228, -1.3234,\n",
      "        -0.7200, -0.5835,  1.1734, -1.3713,  0.0921, -0.1780,  1.0366, -0.5927,\n",
      "         0.0042,  1.5292,  0.1742,  0.0095,  1.0116, -0.4566, -0.7108, -0.4076,\n",
      "         0.5279, -0.0760, -1.2676,  0.4340,  0.0340,  0.4196,  1.0334,  0.6839,\n",
      "         0.2564, -0.2940,  0.2208,  0.8765,  0.3202, -0.7519,  0.1830,  0.3963,\n",
      "         0.7787,  0.3541,  1.0890, -1.0566, -1.4972, -0.2636, -0.9800,  1.4453,\n",
      "         0.5329, -0.9294, -0.1753, -0.0413, -0.6848, -1.6695, -0.2554, -0.9123,\n",
      "         1.3717,  0.3938, -1.0422,  0.7562, -0.3428,  0.2419, -0.0919,  0.6619,\n",
      "        -0.0975,  0.1248, -0.2258, -0.1015, -0.5946,  0.8260, -1.1480, -0.4336,\n",
      "        -0.4123, -0.0965, -1.9505,  0.6569,  0.7503, -0.0921, -0.5179, -0.7132,\n",
      "         0.5109,  1.6920, -0.1322, -1.7413, -1.4718,  0.8811, -0.4945, -1.1423,\n",
      "        -0.6763,  1.3490, -0.4553, -0.2027, -0.8357, -2.9051, -0.1624, -0.6208,\n",
      "        -0.3668, -1.3542,  1.2475,  0.6446, -0.3993, -0.0261,  0.6519, -0.6109,\n",
      "        -0.5876, -0.5917, -1.4623, -2.0579, -0.4898, -0.8751, -1.0213, -0.2823,\n",
      "         0.6492,  0.6091, -0.2399, -1.1381, -0.0164,  0.9727, -2.3203, -0.7979]), tensor([0, 1, 0, 0, 1, 1, 0, 1, 0, 0]))\n"
     ]
    }
   ],
   "source": [
    "data_path = '/home/robert/data/diploma-thesis/datasets/stylegan3/tpsi_1/latents/sample_z.h5'\n",
    "n_classes = 10\n",
    "\n",
    "data = None\n",
    "with h5py.File(data_path, 'r') as f:\n",
    "    data = f['z'][:]\n",
    "\n",
    "dataset = TensorDataset(torch.Tensor(data),torch.randint(0,2,(len(data), n_classes)))\n",
    "train_data, valid_data, test_data = random_split(dataset, [0.8, 0.1, 0.1])\n",
    "print(dataset[0])"
   ]
  },
  {
   "cell_type": "code",
   "execution_count": 9,
   "id": "b3fb8eeb",
   "metadata": {},
   "outputs": [
    {
     "data": {
      "text/plain": [
       "(256000, 512)"
      ]
     },
     "execution_count": 9,
     "metadata": {},
     "output_type": "execute_result"
    }
   ],
   "source": [
    "data.shape"
   ]
  },
  {
   "cell_type": "code",
   "execution_count": null,
   "id": "00527d86",
   "metadata": {},
   "outputs": [],
   "source": [
    "network_pkl = 'https://api.ngc.nvidia.com/v2/models/nvidia/research/stylegan3/versions/1/files/stylegan3-r-ffhqu-256x256.pkl'\n",
    "classifier_weights = '/home/robert/data/diploma-thesis/weights/classfier/resnet34_celeba10attr_10e.pt'\n",
    "\n",
    "generator = StyleGANGenerator(network_pkl)\n",
    "classifier = MultilabelResnetClassifier(n_classes=10)\n",
    "classifier.load_state_dict(torch.load(classifier_weights))\n",
    "\n",
    "pipeline = L2FPipeline(generator = generator, classifier = classifier, tpsi=0.7)"
   ]
  },
  {
   "cell_type": "code",
   "execution_count": null,
   "id": "119f2236",
   "metadata": {},
   "outputs": [],
   "source": [
    "batch_size = 64\n",
    "num_epochs = 10\n",
    "learning_rate = 1e-4\n",
    "train_dataloader = DataLoader(train_data, batch_size=batch_size, shuffle=True)\n",
    "valid_dataloader = DataLoader(valid_data, batch_size=batch_size, shuffle=True)\n",
    "test_dataloader = DataLoader(test_data, batch_size=batch_size, shuffle=False)\n",
    "\n",
    "model = LatentFeatureExtractor(n_classes=n_classes).cuda()\n",
    "criterion = nn.MSELoss()\n",
    "optimizer = torch.optim.Adam(\n",
    "    model.parameters(), lr=learning_rate)"
   ]
  },
  {
   "cell_type": "code",
   "execution_count": null,
   "id": "047d0edc",
   "metadata": {},
   "outputs": [],
   "source": [
    "for epoch in range(num_epochs):\n",
    "    model.train()\n",
    "    for data in train_dataloader:\n",
    "        x, y = data\n",
    "        x = x.cuda()\n",
    "               \n",
    "        z = model(x, y)\n",
    "        preds, _ = pipeline.transform(z)\n",
    "        \n",
    "        train_loss = criterion(preds, y)\n",
    "       \n",
    "        train_loss.backward()\n",
    "        optimizer.step()\n",
    "        optimizer.zero_grad()\n",
    "        \n",
    "    loss['train'].append(train_loss.data.item())\n",
    "    \n",
    "    model.eval()\n",
    "    with torch.no_grad():\n",
    "        for data in valid_dataloader:\n",
    "            x, y = data\n",
    "            x = x.cuda()\n",
    "            y = y.cuda()\n",
    "            \n",
    "            output,latent = model(x, y)            \n",
    "            val_loss = criterion(output, x)\n",
    "            \n",
    "    loss['valid'].append(val_loss.data.item())\n",
    "    \n",
    "    if loss['valid'][-1] < best_valid_loss:\n",
    "        torch.save(model.state_dict(), save_filename)\n",
    "        best_valid_loss = loss['valid'][-1]\n",
    "   \n",
    "    print(f'epoch [{epoch + 1}/{num_epochs}], loss:{loss[\"train\"][-1]}, valid_loss:{loss[\"valid\"][-1]}')"
   ]
  }
 ],
 "metadata": {
  "kernelspec": {
   "display_name": "Python 3 (ipykernel)",
   "language": "python",
   "name": "python3"
  },
  "language_info": {
   "codemirror_mode": {
    "name": "ipython",
    "version": 3
   },
   "file_extension": ".py",
   "mimetype": "text/x-python",
   "name": "python",
   "nbconvert_exporter": "python",
   "pygments_lexer": "ipython3",
   "version": "3.10.9"
  }
 },
 "nbformat": 4,
 "nbformat_minor": 5
}
