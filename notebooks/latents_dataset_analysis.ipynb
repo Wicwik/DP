{
 "cells": [
  {
   "cell_type": "code",
   "execution_count": 1,
   "id": "0903e39c",
   "metadata": {},
   "outputs": [],
   "source": [
    "import pickle\n",
    "import torch\n",
    "import time\n",
    "import sys\n",
    "\n",
    "import numpy as np\n",
    "import seaborn as sns\n",
    "\n",
    "from torch import nn\n",
    "from torch.utils.data import random_split, DataLoader\n",
    "from torch.optim.lr_scheduler import StepLR\n",
    "from torchvision import transforms\n",
    "\n",
    "sys.path.append('..')"
   ]
  },
  {
   "cell_type": "code",
   "execution_count": 2,
   "id": "f01f3a7b",
   "metadata": {},
   "outputs": [],
   "source": [
    "from torchmetrics.classification import BinaryPrecision\n",
    "precision = BinaryPrecision()\n",
    "\n",
    "from torchmetrics.classification import BinaryRecall\n",
    "recall = BinaryRecall()\n",
    "\n",
    "from latents_dataset import load as load_latents_dataset\n",
    "\n",
    "from utils.custom_dataset import CustomDataset\n",
    "\n",
    "data_path = '/home/robert/data/diploma-thesis/datasets/stylegan3/tpsi_1/latents/sample_z.h5'\n",
    "targets_path = '/home/robert/data/diploma-thesis/predictions/stylegan3/tpsi_1/resnet34_eyeglasses.pkl'\n",
    "\n",
    "batch_size = 64\n",
    "\n",
    "train_loss_per_epoch, train_acc_per_epoch = [], []\n",
    "valid_loss_per_epoch, valid_acc_per_epoch = [], []"
   ]
  },
  {
   "cell_type": "code",
   "execution_count": 3,
   "id": "0a6943a0",
   "metadata": {},
   "outputs": [],
   "source": [
    "latents, targets = load_latents_dataset(data_path, targets_path)"
   ]
  },
  {
   "cell_type": "code",
   "execution_count": 4,
   "id": "554d9d6c",
   "metadata": {},
   "outputs": [
    {
     "data": {
      "text/plain": [
       "<AxesSubplot: ylabel='Count'>"
      ]
     },
     "execution_count": 4,
     "metadata": {},
     "output_type": "execute_result"
    },
    {
     "data": {
      "image/png": "[encoded data removed]",
      "text/plain": [
       "<Figure size 640x480 with 1 Axes>"
      ]
     },
     "metadata": {},
     "output_type": "display_data"
    }
   ],
   "source": [
    "targets = np.round(targets)\n",
    "sns.histplot(targets)"
   ]
  },
  {
   "cell_type": "code",
   "execution_count": 5,
   "id": "12baf680",
   "metadata": {},
   "outputs": [
    {
     "data": {
      "text/plain": [
       "(22547,)"
      ]
     },
     "execution_count": 5,
     "metadata": {},
     "output_type": "execute_result"
    }
   ],
   "source": [
    "targets[targets == 1].shape"
   ]
  },
  {
   "cell_type": "code",
   "execution_count": 6,
   "id": "06a8bff7",
   "metadata": {},
   "outputs": [
    {
     "data": {
      "text/plain": [
       "(233453,)"
      ]
     },
     "execution_count": 6,
     "metadata": {},
     "output_type": "execute_result"
    }
   ],
   "source": [
    "targets[targets == 0].shape"
   ]
  },
  {
   "cell_type": "code",
   "execution_count": 7,
   "id": "000d8110",
   "metadata": {},
   "outputs": [
    {
     "data": {
      "text/plain": [
       "(22547,)"
      ]
     },
     "execution_count": 7,
     "metadata": {},
     "output_type": "execute_result"
    }
   ],
   "source": [
    "zero_indices = np.where(targets == 0)[0]\n",
    "zero_indices = np.random.choice(zero_indices, 22547, replace=False)\n",
    "zero_indices.shape"
   ]
  },
  {
   "cell_type": "code",
   "execution_count": 8,
   "id": "d72485b7",
   "metadata": {},
   "outputs": [
    {
     "data": {
      "text/plain": [
       "(45094,)"
      ]
     },
     "execution_count": 8,
     "metadata": {},
     "output_type": "execute_result"
    }
   ],
   "source": [
    "one_indices = np.where(targets == 1)[0]\n",
    "indices = np.concatenate((one_indices, zero_indices))\n",
    "indices.shape"
   ]
  },
  {
   "cell_type": "code",
   "execution_count": 9,
   "id": "9d05e1e1",
   "metadata": {},
   "outputs": [
    {
     "data": {
      "text/plain": [
       "<AxesSubplot: ylabel='Count'>"
      ]
     },
     "execution_count": 9,
     "metadata": {},
     "output_type": "execute_result"
    },
    {
     "data": {
      "image/png": "[encoded data removed]",
      "text/plain": [
       "<Figure size 640x480 with 1 Axes>"
      ]
     },
     "metadata": {},
     "output_type": "display_data"
    }
   ],
   "source": [
    "targets = targets[indices]\n",
    "latents = latents[indices]\n",
    "sns.histplot(targets)"
   ]
  },
  {
   "cell_type": "code",
   "execution_count": 10,
   "id": "0ed01e0e",
   "metadata": {},
   "outputs": [
    {
     "name": "stdout",
     "output_type": "stream",
     "text": [
      "(45094, 512) (45094,)\n"
     ]
    }
   ],
   "source": [
    "print(latents.shape, targets.shape)"
   ]
  },
  {
   "cell_type": "code",
   "execution_count": 11,
   "id": "3b7c863a",
   "metadata": {},
   "outputs": [],
   "source": [
    "transform = transforms.Compose([])\n",
    "target_transform = transforms.Compose([torch.round])\n",
    "dataset = CustomDataset(latents, targets, transform=transform, target_transform=target_transform)\n",
    "train_data, valid_data, test_data = random_split(dataset, [0.8, 0.1, 0.1], generator=torch.Generator().manual_seed(42))"
   ]
  },
  {
   "cell_type": "code",
   "execution_count": 12,
   "id": "c9033754",
   "metadata": {},
   "outputs": [],
   "source": [
    "train_dataloader = DataLoader(train_data, batch_size=batch_size, shuffle=True)\n",
    "valid_dataloader = DataLoader(valid_data, batch_size=batch_size, shuffle=True)\n",
    "test_dataloader = DataLoader(test_data, batch_size=batch_size, shuffle=False)"
   ]
  },
  {
   "cell_type": "code",
   "execution_count": 13,
   "id": "1856a556",
   "metadata": {},
   "outputs": [
    {
     "name": "stdout",
     "output_type": "stream",
     "text": [
      "Shape of X [N, C, H, W]: torch.Size([64, 512])\n",
      "Shape of y: torch.Size([64, 1]) torch.float32\n"
     ]
    }
   ],
   "source": [
    "for X, y in test_dataloader:\n",
    "    print(f'Shape of X [N, C, H, W]: {X.shape}')\n",
    "    print(f'Shape of y: {y.shape} {y.dtype}')\n",
    "    break"
   ]
  },
  {
   "cell_type": "code",
   "execution_count": 14,
   "id": "7c86f26e",
   "metadata": {},
   "outputs": [],
   "source": [
    "device = 'cpu'\n",
    "if torch.cuda.is_available( ):\n",
    "    device = 'cuda'"
   ]
  },
  {
   "cell_type": "code",
   "execution_count": 3,
   "id": "04b9aaf4",
   "metadata": {},
   "outputs": [],
   "source": [
    "class LatentEncoder(nn.Module):\n",
    "    def __init__(self, input_shape=(64, 512), num_classes=1):\n",
    "        super(LatentEncoder, self).__init__()\n",
    "    \n",
    "        self.encoder = nn.Sequential(\n",
    "            nn.Linear(input_shape[1], 256),\n",
    "            nn.Dropout(0.5),\n",
    "            nn.ReLU(),\n",
    "            nn.Linear(256, 128),\n",
    "            nn.Dropout(0.25),\n",
    "            nn.ReLU(),\n",
    "            nn.Linear(128, 64),\n",
    "            nn.Dropout(0.125),\n",
    "            nn.ReLU(),\n",
    "            nn.Linear(64, 32),\n",
    "            nn.Dropout(0.125),\n",
    "            nn.ReLU(),\n",
    "            nn.Linear(32, num_classes),\n",
    "        )\n",
    "\n",
    "        self.sigmoid = nn.Sigmoid()\n",
    "\n",
    "        def init_weights(m):\n",
    "            if type(m) in [nn.Linear, nn.Conv2d]:\n",
    "                nn.init.kaiming_uniform_(m.weight)\n",
    "\n",
    "        self.encoder.apply(init_weights)\n",
    "\n",
    "    def forward(self, x):\n",
    "        return self.sigmoid(self.encoder(x))"
   ]
  },
  {
   "cell_type": "code",
   "execution_count": 37,
   "id": "9a83922f",
   "metadata": {},
   "outputs": [],
   "source": [
    "def train(dataloader, model, loss_fn, optimizer):\n",
    "    train_loss, train_acc = 0, 0\n",
    "    num_batches = len(dataloader)\n",
    "\n",
    "    size = len(dataloader.dataset)\n",
    "    model.train()\n",
    "    start = time.time()\n",
    "    for batch, (X, y) in enumerate(dataloader):\n",
    "        X, y = X.to(device), y.to(device)\n",
    "\n",
    "        pred = model(X)\n",
    "\n",
    "        loss = loss_fn(pred, y.float())\n",
    "        train_loss += loss.item()\n",
    "\n",
    "        acc = torch.round(pred).eq(y).sum().cpu().numpy()/len(y[0])/len(y)\n",
    "        train_acc += acc\n",
    "\n",
    "        optimizer.zero_grad()\n",
    "        loss.backward()\n",
    "        optimizer.step()\n",
    "\n",
    "        if batch % 100 == 0:\n",
    "            end = time.time()\n",
    "            loss, current = loss.item(), batch * len(X)\n",
    "            print(f'loss: {loss:>7f}  [{current:>5d}/{size:>5d}] time: {end-start} acc: {acc}')\n",
    "            start = time.time()\n",
    "\n",
    "    train_loss /= num_batches\n",
    "    train_acc /= num_batches\n",
    "\n",
    "    train_loss_per_epoch.append(train_loss)\n",
    "    train_acc_per_epoch.append(train_acc)"
   ]
  },
  {
   "cell_type": "code",
   "execution_count": 38,
   "id": "f9b3f67b",
   "metadata": {},
   "outputs": [],
   "source": [
    "def valid(dataloader, model, loss_fn, save_filename=None):\n",
    "    num_batches = len(dataloader)\n",
    "    model.eval()\n",
    "    valid_loss, valid_acc, valid_precision, valid_recall = 0, 0, 0, 0\n",
    "    with torch.no_grad():\n",
    "        for X, y in dataloader:\n",
    "            X, y = X.to(device), y.to(device)\n",
    "            pred = model(X)\n",
    "            valid_loss += loss_fn(pred, y.float()).item()\n",
    "            valid_acc += torch.round(pred).eq(y).sum().cpu().numpy()/len(y[0])/len(y)\n",
    "            valid_precision += precision(pred.cpu(), y.cpu())\n",
    "            valid_recall += recall(pred.cpu(), y.cpu())\n",
    "\n",
    "    valid_loss /= num_batches\n",
    "    valid_acc /= num_batches\n",
    "    valid_precision /= num_batches\n",
    "    valid_recall /= num_batches\n",
    "\n",
    "    print(f'Valid Error: \\n Accuracy: {valid_acc:>8f}, Precision: {valid_precision:>8f}, Recall: {valid_recall:>8f}, Avg loss: {valid_loss:>8f} \\n')\n",
    "\n",
    "    valid_loss_per_epoch.append(valid_loss)\n",
    "    valid_acc_per_epoch.append(valid_acc)"
   ]
  },
  {
   "cell_type": "code",
   "execution_count": 39,
   "id": "e45fd452",
   "metadata": {},
   "outputs": [],
   "source": [
    "def test(dataloader, model, loss_fn):\n",
    "    num_batches = len(dataloader)\n",
    "    model.eval()\n",
    "    test_loss, test_acc = 0, 0\n",
    "    with torch.no_grad():\n",
    "        for X, y in dataloader:\n",
    "            X, y = X.to(device), y.to(device)\n",
    "            pred = model(X)\n",
    "            test_loss += loss_fn(pred, y.float()).item()\n",
    "            test_acc += torch.round(pred).eq(y).sum().cpu().numpy()/len(y[0])/len(y)\n",
    "    \n",
    "    test_loss /= num_batches\n",
    "    test_acc /= num_batches\n",
    "    print(f'Test Error: \\n Accuracy: {test_acc:>0.8f}, Avg loss: {test_loss:>8f} \\n')"
   ]
  },
  {
   "cell_type": "code",
   "execution_count": 46,
   "id": "a88c8c48",
   "metadata": {},
   "outputs": [
    {
     "name": "stdout",
     "output_type": "stream",
     "text": [
      "LatentEncoder(\n",
      "  (encoder): Sequential(\n",
      "    (0): Linear(in_features=512, out_features=256, bias=True)\n",
      "    (1): Dropout(p=0.5, inplace=False)\n",
      "    (2): Sigmoid()\n",
      "    (3): Linear(in_features=256, out_features=128, bias=True)\n",
      "    (4): Dropout(p=0.25, inplace=False)\n",
      "    (5): Tanh()\n",
      "    (6): Linear(in_features=128, out_features=64, bias=True)\n",
      "    (7): Dropout(p=0.125, inplace=False)\n",
      "    (8): Sigmoid()\n",
      "    (9): Linear(in_features=64, out_features=1, bias=True)\n",
      "  )\n",
      "  (sigmoid): Sigmoid()\n",
      ")\n",
      "Epoch 1\n",
      "-------------------------------\n",
      "loss: 0.704532  [    0/36076] time: 0.009621381759643555 acc: 0.5\n",
      "loss: 0.585433  [ 6400/36076] time: 0.2982919216156006 acc: 0.71875\n",
      "loss: 0.509709  [12800/36076] time: 0.23776721954345703 acc: 0.75\n",
      "loss: 0.407762  [19200/36076] time: 0.23740649223327637 acc: 0.8125\n",
      "loss: 0.399051  [25600/36076] time: 0.23833680152893066 acc: 0.796875\n",
      "loss: 0.542961  [32000/36076] time: 0.23816633224487305 acc: 0.78125\n",
      "Valid Error: \n",
      " Accuracy: 0.799948, Precision: 0.749916, Recall: 0.897118, Avg loss: 0.495398 \n",
      "\n",
      "Epoch 2\n",
      "-------------------------------\n",
      "loss: 0.396945  [    0/36076] time: 0.004199981689453125 acc: 0.875\n",
      "loss: 0.411601  [ 6400/36076] time: 0.23836207389831543 acc: 0.84375\n",
      "loss: 0.457354  [12800/36076] time: 0.23768043518066406 acc: 0.796875\n",
      "loss: 0.417454  [19200/36076] time: 0.24058055877685547 acc: 0.796875\n",
      "loss: 0.380784  [25600/36076] time: 0.2382218837738037 acc: 0.84375\n",
      "loss: 0.434670  [32000/36076] time: 0.2385859489440918 acc: 0.8125\n",
      "Valid Error: \n",
      " Accuracy: 0.806422, Precision: 0.758051, Recall: 0.897201, Avg loss: 0.486912 \n",
      "\n",
      "Epoch 3\n",
      "-------------------------------\n",
      "loss: 0.343320  [    0/36076] time: 0.004047393798828125 acc: 0.84375\n",
      "loss: 0.429105  [ 6400/36076] time: 0.2373371124267578 acc: 0.84375\n",
      "loss: 0.381927  [12800/36076] time: 0.23753929138183594 acc: 0.859375\n",
      "loss: 0.425874  [19200/36076] time: 0.2379770278930664 acc: 0.84375\n",
      "loss: 0.454081  [25600/36076] time: 0.23786568641662598 acc: 0.8125\n",
      "loss: 0.406431  [32000/36076] time: 0.23770403861999512 acc: 0.8125\n",
      "Valid Error: \n",
      " Accuracy: 0.795813, Precision: 0.740933, Recall: 0.910054, Avg loss: 0.548576 \n",
      "\n",
      "Epoch 4\n",
      "-------------------------------\n",
      "loss: 0.476767  [    0/36076] time: 0.004109859466552734 acc: 0.8125\n",
      "loss: 0.412405  [ 6400/36076] time: 0.23775124549865723 acc: 0.8125\n",
      "loss: 0.283097  [12800/36076] time: 0.23846864700317383 acc: 0.890625\n",
      "loss: 0.463885  [19200/36076] time: 0.23890256881713867 acc: 0.78125\n",
      "loss: 0.394313  [25600/36076] time: 0.23827743530273438 acc: 0.8125\n",
      "loss: 0.377253  [32000/36076] time: 0.23861098289489746 acc: 0.84375\n",
      "Valid Error: \n",
      " Accuracy: 0.809586, Precision: 0.766973, Recall: 0.884330, Avg loss: 0.494909 \n",
      "\n",
      "Epoch 5\n",
      "-------------------------------\n",
      "loss: 0.296858  [    0/36076] time: 0.004122018814086914 acc: 0.875\n",
      "loss: 0.353649  [ 6400/36076] time: 0.238114595413208 acc: 0.84375\n",
      "loss: 0.333565  [12800/36076] time: 0.2387993335723877 acc: 0.875\n",
      "loss: 0.533568  [19200/36076] time: 0.23786234855651855 acc: 0.828125\n",
      "loss: 0.506973  [25600/36076] time: 0.2382960319519043 acc: 0.78125\n",
      "loss: 0.325779  [32000/36076] time: 0.23870444297790527 acc: 0.859375\n",
      "Valid Error: \n",
      " Accuracy: 0.798719, Precision: 0.743999, Recall: 0.911652, Avg loss: 0.540391 \n",
      "\n",
      "Epoch 6\n",
      "-------------------------------\n",
      "loss: 0.409791  [    0/36076] time: 0.004163503646850586 acc: 0.828125\n",
      "loss: 0.315885  [ 6400/36076] time: 0.23714494705200195 acc: 0.859375\n",
      "loss: 0.384481  [12800/36076] time: 0.2378673553466797 acc: 0.8125\n",
      "loss: 0.502367  [19200/36076] time: 0.23861193656921387 acc: 0.796875\n",
      "loss: 0.255458  [25600/36076] time: 0.2382814884185791 acc: 0.90625\n",
      "loss: 0.405093  [32000/36076] time: 0.2379288673400879 acc: 0.828125\n",
      "Valid Error: \n",
      " Accuracy: 0.808971, Precision: 0.768672, Recall: 0.883585, Avg loss: 0.508549 \n",
      "\n",
      "Epoch 7\n",
      "-------------------------------\n",
      "loss: 0.351711  [    0/36076] time: 0.004105567932128906 acc: 0.84375\n",
      "loss: 0.214410  [ 6400/36076] time: 0.23855376243591309 acc: 0.9375\n",
      "loss: 0.484907  [12800/36076] time: 0.2381894588470459 acc: 0.796875\n",
      "loss: 0.354872  [19200/36076] time: 0.23830604553222656 acc: 0.890625\n",
      "loss: 0.246128  [25600/36076] time: 0.23844122886657715 acc: 0.875\n",
      "loss: 0.353508  [32000/36076] time: 0.23906850814819336 acc: 0.875\n",
      "Valid Error: \n",
      " Accuracy: 0.798711, Precision: 0.744977, Recall: 0.901984, Avg loss: 0.546035 \n",
      "\n",
      "Epoch 8\n",
      "-------------------------------\n",
      "loss: 0.272384  [    0/36076] time: 0.004293203353881836 acc: 0.890625\n",
      "loss: 0.278423  [ 6400/36076] time: 0.23781824111938477 acc: 0.90625\n",
      "loss: 0.412326  [12800/36076] time: 0.23788785934448242 acc: 0.859375\n",
      "loss: 0.347202  [19200/36076] time: 0.23781657218933105 acc: 0.875\n",
      "loss: 0.346318  [25600/36076] time: 0.23853468894958496 acc: 0.875\n",
      "loss: 0.343791  [32000/36076] time: 0.2381596565246582 acc: 0.828125\n",
      "Valid Error: \n",
      " Accuracy: 0.794758, Precision: 0.737550, Recall: 0.910716, Avg loss: 0.589494 \n",
      "\n",
      "Epoch 9\n",
      "-------------------------------\n",
      "loss: 0.297988  [    0/36076] time: 0.004189252853393555 acc: 0.890625\n",
      "loss: 0.348622  [ 6400/36076] time: 0.23851275444030762 acc: 0.859375\n",
      "loss: 0.317343  [12800/36076] time: 0.23833298683166504 acc: 0.875\n",
      "loss: 0.219919  [19200/36076] time: 0.23801279067993164 acc: 0.9375\n",
      "loss: 0.285785  [25600/36076] time: 0.23761487007141113 acc: 0.875\n",
      "loss: 0.437846  [32000/36076] time: 0.23864197731018066 acc: 0.796875\n",
      "Valid Error: \n",
      " Accuracy: 0.802104, Precision: 0.753525, Recall: 0.897120, Avg loss: 0.551512 \n",
      "\n",
      "Epoch 10\n",
      "-------------------------------\n",
      "loss: 0.439913  [    0/36076] time: 0.00406956672668457 acc: 0.796875\n",
      "loss: 0.286896  [ 6400/36076] time: 0.23810958862304688 acc: 0.875\n",
      "loss: 0.179074  [12800/36076] time: 0.23859882354736328 acc: 0.96875\n",
      "loss: 0.335878  [19200/36076] time: 0.23870444297790527 acc: 0.90625\n",
      "loss: 0.417701  [25600/36076] time: 0.23953938484191895 acc: 0.84375\n",
      "loss: 0.368522  [32000/36076] time: 0.23839139938354492 acc: 0.875\n",
      "Valid Error: \n",
      " Accuracy: 0.799068, Precision: 0.748756, Recall: 0.899851, Avg loss: 0.598402 \n",
      "\n",
      "Epoch 11\n",
      "-------------------------------\n",
      "loss: 0.266366  [    0/36076] time: 0.004189014434814453 acc: 0.90625\n",
      "loss: 0.208617  [ 6400/36076] time: 0.238203763961792 acc: 0.953125\n",
      "loss: 0.438401  [12800/36076] time: 0.23827648162841797 acc: 0.84375\n",
      "loss: 0.225058  [19200/36076] time: 0.23787808418273926 acc: 0.90625\n",
      "loss: 0.177042  [25600/36076] time: 0.23792362213134766 acc: 0.953125\n",
      "loss: 0.381027  [32000/36076] time: 0.23858356475830078 acc: 0.84375\n",
      "Valid Error: \n",
      " Accuracy: 0.787799, Precision: 0.731057, Recall: 0.914281, Avg loss: 0.635100 \n",
      "\n",
      "Epoch 12\n",
      "-------------------------------\n",
      "loss: 0.389788  [    0/36076] time: 0.004126787185668945 acc: 0.859375\n",
      "loss: 0.350522  [ 6400/36076] time: 0.23819684982299805 acc: 0.828125\n",
      "loss: 0.529084  [12800/36076] time: 0.2380516529083252 acc: 0.796875\n",
      "loss: 0.170881  [19200/36076] time: 0.2382347583770752 acc: 0.984375\n",
      "loss: 0.348502  [25600/36076] time: 0.23824214935302734 acc: 0.84375\n",
      "loss: 0.330716  [32000/36076] time: 0.23791241645812988 acc: 0.890625\n",
      "Valid Error: \n",
      " Accuracy: 0.784885, Precision: 0.723593, Recall: 0.921803, Avg loss: 0.642143 \n",
      "\n",
      "Epoch 13\n",
      "-------------------------------\n",
      "loss: 0.206502  [    0/36076] time: 0.0042951107025146484 acc: 0.90625\n",
      "loss: 0.168625  [ 6400/36076] time: 0.23879790306091309 acc: 0.953125\n",
      "loss: 0.402157  [12800/36076] time: 0.2377941608428955 acc: 0.859375\n",
      "loss: 0.184393  [19200/36076] time: 0.2386622428894043 acc: 0.9375\n",
      "loss: 0.303993  [25600/36076] time: 0.2377328872680664 acc: 0.875\n",
      "loss: 0.297852  [32000/36076] time: 0.23961901664733887 acc: 0.859375\n",
      "Valid Error: \n",
      " Accuracy: 0.791062, Precision: 0.732774, Recall: 0.912052, Avg loss: 0.662600 \n",
      "\n",
      "Epoch 14\n",
      "-------------------------------\n",
      "loss: 0.173717  [    0/36076] time: 0.004082441329956055 acc: 0.9375\n",
      "loss: 0.277715  [ 6400/36076] time: 0.23775076866149902 acc: 0.890625\n",
      "loss: 0.281684  [12800/36076] time: 0.2377316951751709 acc: 0.90625\n",
      "loss: 0.294510  [19200/36076] time: 0.23894500732421875 acc: 0.875\n",
      "loss: 0.179842  [25600/36076] time: 0.23881173133850098 acc: 0.953125\n",
      "loss: 0.245944  [32000/36076] time: 0.23853182792663574 acc: 0.921875\n",
      "Valid Error: \n",
      " Accuracy: 0.798491, Precision: 0.744946, Recall: 0.902317, Avg loss: 0.624060 \n",
      "\n",
      "Epoch 15\n",
      "-------------------------------\n",
      "loss: 0.314404  [    0/36076] time: 0.004131793975830078 acc: 0.890625\n"
     ]
    },
    {
     "name": "stdout",
     "output_type": "stream",
     "text": [
      "loss: 0.254259  [ 6400/36076] time: 0.2391681671142578 acc: 0.875\n",
      "loss: 0.358729  [12800/36076] time: 0.23799490928649902 acc: 0.875\n",
      "loss: 0.214481  [19200/36076] time: 0.2382042407989502 acc: 0.9375\n",
      "loss: 0.258852  [25600/36076] time: 0.23868346214294434 acc: 0.90625\n",
      "loss: 0.362393  [32000/36076] time: 0.23851609230041504 acc: 0.828125\n",
      "Valid Error: \n",
      " Accuracy: 0.783003, Precision: 0.721494, Recall: 0.920959, Avg loss: 0.676721 \n",
      "\n",
      "Epoch 16\n",
      "-------------------------------\n",
      "loss: 0.336394  [    0/36076] time: 0.004118442535400391 acc: 0.90625\n",
      "loss: 0.208774  [ 6400/36076] time: 0.23841452598571777 acc: 0.921875\n",
      "loss: 0.196576  [12800/36076] time: 0.2379920482635498 acc: 0.9375\n",
      "loss: 0.445394  [19200/36076] time: 0.2395477294921875 acc: 0.828125\n",
      "loss: 0.207681  [25600/36076] time: 0.24022412300109863 acc: 0.90625\n",
      "loss: 0.287161  [32000/36076] time: 0.23798727989196777 acc: 0.890625\n",
      "Valid Error: \n",
      " Accuracy: 0.793786, Precision: 0.733712, Recall: 0.919882, Avg loss: 0.671343 \n",
      "\n",
      "Epoch 17\n",
      "-------------------------------\n",
      "loss: 0.156025  [    0/36076] time: 0.004763364791870117 acc: 0.953125\n",
      "loss: 0.200889  [ 6400/36076] time: 0.31944847106933594 acc: 0.921875\n",
      "loss: 0.241393  [12800/36076] time: 0.3162086009979248 acc: 0.921875\n",
      "loss: 0.231588  [19200/36076] time: 0.38007402420043945 acc: 0.9375\n",
      "loss: 0.257810  [25600/36076] time: 0.3917820453643799 acc: 0.921875\n",
      "loss: 0.358036  [32000/36076] time: 0.386432409286499 acc: 0.84375\n",
      "Valid Error: \n",
      " Accuracy: 0.795016, Precision: 0.736536, Recall: 0.909864, Avg loss: 0.645878 \n",
      "\n",
      "Epoch 18\n",
      "-------------------------------\n",
      "loss: 0.235014  [    0/36076] time: 0.004846334457397461 acc: 0.9375\n",
      "loss: 0.276293  [ 6400/36076] time: 0.3575887680053711 acc: 0.90625\n",
      "loss: 0.128331  [12800/36076] time: 0.3858604431152344 acc: 0.96875\n",
      "loss: 0.284828  [19200/36076] time: 0.3911776542663574 acc: 0.890625\n",
      "loss: 0.285347  [25600/36076] time: 0.23816752433776855 acc: 0.90625\n",
      "loss: 0.333798  [32000/36076] time: 0.23794269561767578 acc: 0.859375\n",
      "Valid Error: \n",
      " Accuracy: 0.793915, Precision: 0.733657, Recall: 0.922148, Avg loss: 0.704752 \n",
      "\n",
      "Epoch 19\n",
      "-------------------------------\n",
      "loss: 0.177695  [    0/36076] time: 0.00412750244140625 acc: 0.921875\n",
      "loss: 0.253007  [ 6400/36076] time: 0.23875927925109863 acc: 0.921875\n",
      "loss: 0.268815  [12800/36076] time: 0.2387990951538086 acc: 0.875\n",
      "loss: 0.251897  [19200/36076] time: 0.23807716369628906 acc: 0.90625\n",
      "loss: 0.157845  [25600/36076] time: 0.23808717727661133 acc: 0.953125\n",
      "loss: 0.302806  [32000/36076] time: 0.23897671699523926 acc: 0.90625\n",
      "Valid Error: \n",
      " Accuracy: 0.782957, Precision: 0.716833, Recall: 0.928257, Avg loss: 0.710270 \n",
      "\n",
      "Epoch 20\n",
      "-------------------------------\n",
      "loss: 0.164507  [    0/36076] time: 0.003984689712524414 acc: 0.96875\n",
      "loss: 0.304186  [ 6400/36076] time: 0.23854565620422363 acc: 0.859375\n",
      "loss: 0.194968  [12800/36076] time: 0.2382488250732422 acc: 0.953125\n",
      "loss: 0.306015  [19200/36076] time: 0.2394733428955078 acc: 0.875\n",
      "loss: 0.255688  [25600/36076] time: 0.24022769927978516 acc: 0.90625\n",
      "loss: 0.243998  [32000/36076] time: 0.2390141487121582 acc: 0.875\n",
      "Valid Error: \n",
      " Accuracy: 0.791100, Precision: 0.732742, Recall: 0.917844, Avg loss: 0.680912 \n",
      "\n",
      "Done!\n",
      "Test Error: \n",
      " Accuracy: 0.80157237, Avg loss: 0.657209 \n",
      "\n"
     ]
    }
   ],
   "source": [
    "input_shape = (batch_size, len(dataset[0][0]))\n",
    "model = LatentEncoder(input_shape=input_shape).to(device)\n",
    "\n",
    "print(model)\n",
    "\n",
    "loss_fn = nn.BCELoss()\n",
    "optimizer = torch.optim.Adam(model.parameters(), lr=0.001)\n",
    "# scheduler = StepLR = StepLR(optimizer, step_size=1, gamma=0.1)\n",
    "\n",
    "epochs = 20\n",
    "for t in range(epochs):\n",
    "    print(f'Epoch {t+1}\\n-------------------------------')\n",
    "    train(train_dataloader, model, loss_fn, optimizer)\n",
    "    # scheduler.step()\n",
    "    valid(valid_dataloader, model, loss_fn)\n",
    "print('Done!')\n",
    "\n",
    "test(test_dataloader, model, loss_fn)"
   ]
  },
  {
   "cell_type": "code",
   "execution_count": 15,
   "id": "29ef4290",
   "metadata": {},
   "outputs": [],
   "source": [
    "from pytorch_nn import NNUtil\n",
    "\n",
    "input_shape = (batch_size, len(dataset[0][0]))\n",
    "model = LatentEncoder(input_shape=input_shape)\n",
    "loss_fn = nn.BCELoss()\n",
    "optimizer = torch.optim.Adam(model.parameters(), lr=0.001)\n",
    "\n",
    "dataloaders={'train': train_dataloader, 'valid': valid_dataloader, 'test': test_dataloader}"
   ]
  },
  {
   "cell_type": "code",
   "execution_count": 16,
   "id": "fac0e887",
   "metadata": {},
   "outputs": [],
   "source": [
    "trainer = NNUtil(model=model, dataloaders=dataloaders, loss_fn=loss_fn, optimizer=optimizer)"
   ]
  },
  {
   "cell_type": "code",
   "execution_count": 17,
   "id": "efb546d1",
   "metadata": {},
   "outputs": [
    {
     "name": "stdout",
     "output_type": "stream",
     "text": [
      "Epoch 1\n",
      "-------------------------------\n",
      "loss: 0.754516  [    0/36076] time: 0.2892770767211914 acc: 0.484375 precision: 0.484375 recall: 1.0\n",
      "loss: 0.593815  [ 6400/36076] time: 0.46573543548583984 acc: 0.703125 precision: 0.75 recall: 0.6857143044471741\n",
      "loss: 0.384278  [12800/36076] time: 0.46588921546936035 acc: 0.84375 precision: 0.8787878751754761 recall: 0.8285714387893677\n",
      "loss: 0.528846  [19200/36076] time: 0.46242427825927734 acc: 0.734375 precision: 0.6000000238418579 recall: 0.875\n",
      "loss: 0.623941  [25600/36076] time: 0.4672701358795166 acc: 0.703125 precision: 0.75 recall: 0.7297297120094299\n",
      "loss: 0.439039  [32000/36076] time: 0.46726083755493164 acc: 0.8125 precision: 0.800000011920929 recall: 0.8484848737716675\n",
      "Valid | Error: \n",
      " Accuracy: 0.809761, Precision: 0.763194, Recall: 0.892626, Avg loss: 0.476281 \n",
      "\n",
      "Epoch 2\n",
      "-------------------------------\n",
      "loss: 0.397344  [    0/36076] time: 0.006555318832397461 acc: 0.875 precision: 0.8571428656578064 recall: 0.8571428656578064\n",
      "loss: 0.422081  [ 6400/36076] time: 0.4631168842315674 acc: 0.890625 precision: 0.9333333373069763 recall: 0.8484848737716675\n",
      "loss: 0.380286  [12800/36076] time: 0.4564836025238037 acc: 0.84375 precision: 0.8048780560493469 recall: 0.9428571462631226\n",
      "loss: 0.485082  [19200/36076] time: 0.45584702491760254 acc: 0.796875 precision: 0.7804877758026123 recall: 0.8888888955116272\n",
      "loss: 0.377160  [25600/36076] time: 0.4675328731536865 acc: 0.796875 precision: 0.8387096524238586 recall: 0.7647058963775635\n",
      "loss: 0.353691  [32000/36076] time: 0.46517395973205566 acc: 0.890625 precision: 0.8611111044883728 recall: 0.939393937587738\n",
      "Valid | Error: \n",
      " Accuracy: 0.813327, Precision: 0.763008, Recall: 0.903493, Avg loss: 0.477193 \n",
      "\n",
      "Epoch 3\n",
      "-------------------------------\n",
      "loss: 0.302520  [    0/36076] time: 0.006435394287109375 acc: 0.921875 precision: 0.8888888955116272 recall: 0.9696969985961914\n",
      "loss: 0.416453  [ 6400/36076] time: 0.42055678367614746 acc: 0.796875 precision: 0.7297297120094299 recall: 0.8999999761581421\n",
      "loss: 0.373812  [12800/36076] time: 0.4361443519592285 acc: 0.875 precision: 0.837837815284729 recall: 0.939393937587738\n",
      "loss: 0.351311  [19200/36076] time: 0.46442294120788574 acc: 0.859375 precision: 0.9142857193946838 recall: 0.8421052694320679\n",
      "loss: 0.396491  [25600/36076] time: 0.46654558181762695 acc: 0.828125 precision: 0.8157894611358643 recall: 0.8857142925262451\n",
      "loss: 0.411439  [32000/36076] time: 0.46314430236816406 acc: 0.8125 precision: 0.8235294222831726 recall: 0.8235294222831726\n",
      "Valid | Error: \n",
      " Accuracy: 0.814777, Precision: 0.773824, Recall: 0.887320, Avg loss: 0.472352 \n",
      "\n",
      "Epoch 4\n",
      "-------------------------------\n",
      "loss: 0.350588  [    0/36076] time: 0.006372928619384766 acc: 0.875 precision: 0.8571428656578064 recall: 0.8571428656578064\n",
      "loss: 0.381346  [ 6400/36076] time: 0.46526122093200684 acc: 0.875 precision: 0.8157894611358643 recall: 0.96875\n",
      "loss: 0.395290  [12800/36076] time: 0.4757065773010254 acc: 0.859375 precision: 0.8108108043670654 recall: 0.9375\n",
      "loss: 0.486975  [19200/36076] time: 0.4553489685058594 acc: 0.796875 precision: 0.7948718070983887 recall: 0.8611111044883728\n",
      "loss: 0.493423  [25600/36076] time: 0.45762014389038086 acc: 0.75 precision: 0.7352941036224365 recall: 0.78125\n",
      "loss: 0.350261  [32000/36076] time: 0.4611961841583252 acc: 0.875 precision: 0.8285714387893677 recall: 0.9354838728904724\n",
      "Valid | Error: \n",
      " Accuracy: 0.813904, Precision: 0.765873, Recall: 0.904039, Avg loss: 0.501942 \n",
      "\n",
      "Epoch 5\n",
      "-------------------------------\n",
      "loss: 0.294151  [    0/36076] time: 0.006415128707885742 acc: 0.890625 precision: 0.8571428656578064 recall: 0.9375\n",
      "loss: 0.454884  [ 6400/36076] time: 0.46216440200805664 acc: 0.796875 precision: 0.7777777910232544 recall: 0.8484848737716675\n",
      "loss: 0.343691  [12800/36076] time: 0.4617919921875 acc: 0.90625 precision: 0.9375 recall: 0.8823529481887817\n",
      "loss: 0.308315  [19200/36076] time: 0.46201324462890625 acc: 0.90625 precision: 0.9117646813392639 recall: 0.9117646813392639\n",
      "loss: 0.295423  [25600/36076] time: 0.46087074279785156 acc: 0.890625 precision: 0.8285714387893677 recall: 0.9666666388511658\n",
      "loss: 0.331115  [32000/36076] time: 0.46280956268310547 acc: 0.890625 precision: 0.8648648858070374 recall: 0.9411764740943909\n",
      "Valid | Error: \n",
      " Accuracy: 0.813327, Precision: 0.764432, Recall: 0.895055, Avg loss: 0.482497 \n",
      "\n",
      "Epoch 6\n",
      "-------------------------------\n",
      "loss: 0.358168  [    0/36076] time: 0.006326913833618164 acc: 0.875 precision: 0.8666666746139526 recall: 0.8666666746139526\n",
      "loss: 0.384260  [ 6400/36076] time: 0.4614698886871338 acc: 0.890625 precision: 0.90625 recall: 0.8787878751754761\n",
      "loss: 0.243777  [12800/36076] time: 0.4617774486541748 acc: 0.9375 precision: 0.9714285731315613 recall: 0.9189189076423645\n",
      "loss: 0.493585  [19200/36076] time: 0.46306562423706055 acc: 0.78125 precision: 0.84375 recall: 0.75\n",
      "loss: 0.288743  [25600/36076] time: 0.46076393127441406 acc: 0.890625 precision: 0.8484848737716675 recall: 0.9333333373069763\n",
      "loss: 0.415156  [32000/36076] time: 0.4635136127471924 acc: 0.84375 precision: 0.7894737124443054 recall: 0.9375\n",
      "Valid | Error: \n",
      " Accuracy: 0.811567, Precision: 0.763108, Recall: 0.901441, Avg loss: 0.514455 \n",
      "\n",
      "Epoch 7\n",
      "-------------------------------\n",
      "loss: 0.428555  [    0/36076] time: 0.0066242218017578125 acc: 0.875 precision: 0.8709677457809448 recall: 0.8709677457809448\n",
      "loss: 0.339895  [ 6400/36076] time: 0.4643230438232422 acc: 0.875 precision: 0.8529411554336548 recall: 0.90625\n",
      "loss: 0.300273  [12800/36076] time: 0.46404409408569336 acc: 0.875 precision: 0.9599999785423279 recall: 0.774193525314331\n",
      "loss: 0.418623  [19200/36076] time: 0.4582483768463135 acc: 0.859375 precision: 0.8928571343421936 recall: 0.8064516186714172\n",
      "loss: 0.311307  [25600/36076] time: 0.46433377265930176 acc: 0.90625 precision: 0.9285714030265808 recall: 0.8666666746139526\n",
      "loss: 0.339065  [32000/36076] time: 0.4658029079437256 acc: 0.875 precision: 0.9032257795333862 recall: 0.8484848737716675\n",
      "Valid | Error: \n",
      " Accuracy: 0.811703, Precision: 0.769135, Recall: 0.886273, Avg loss: 0.502146 \n",
      "\n",
      "Epoch 8\n",
      "-------------------------------\n",
      "loss: 0.405012  [    0/36076] time: 0.006356000900268555 acc: 0.796875 precision: 0.8235294222831726 recall: 0.800000011920929\n",
      "loss: 0.246756  [ 6400/36076] time: 0.4642796516418457 acc: 0.921875 precision: 1.0 recall: 0.8717948794364929\n",
      "loss: 0.245276  [12800/36076] time: 0.4654662609100342 acc: 0.90625 precision: 0.9259259104728699 recall: 0.8620689511299133\n",
      "loss: 0.349456  [19200/36076] time: 0.46403050422668457 acc: 0.859375 precision: 0.7894737124443054 recall: 0.9677419066429138\n",
      "loss: 0.288456  [25600/36076] time: 0.39679574966430664 acc: 0.859375 precision: 0.875 recall: 0.8484848737716675\n",
      "loss: 0.461104  [32000/36076] time: 0.463559627532959 acc: 0.8125 precision: 0.800000011920929 recall: 0.9230769276618958\n",
      "Valid | Error: \n",
      " Accuracy: 0.811309, Precision: 0.758429, Recall: 0.913275, Avg loss: 0.552319 \n",
      "\n",
      "Epoch 9\n",
      "-------------------------------\n",
      "loss: 0.233094  [    0/36076] time: 0.006570100784301758 acc: 0.953125 precision: 0.9444444179534912 recall: 0.9714285731315613\n",
      "loss: 0.229838  [ 6400/36076] time: 0.46527576446533203 acc: 0.953125 precision: 0.9696969985961914 recall: 0.9411764740943909\n",
      "loss: 0.292173  [12800/36076] time: 0.4639005661010742 acc: 0.90625 precision: 0.8648648858070374 recall: 0.9696969985961914\n",
      "loss: 0.270778  [19200/36076] time: 0.46569037437438965 acc: 0.890625 precision: 0.8888888955116272 recall: 0.9142857193946838\n",
      "loss: 0.329907  [25600/36076] time: 0.4646284580230713 acc: 0.890625 precision: 0.9142857193946838 recall: 0.8888888955116272\n",
      "loss: 0.339753  [32000/36076] time: 0.4637751579284668 acc: 0.875 precision: 0.9333333373069763 recall: 0.8235294222831726\n",
      "Valid | Error: \n",
      " Accuracy: 0.805397, Precision: 0.750060, Recall: 0.912286, Avg loss: 0.570466 \n",
      "\n",
      "Epoch 10\n",
      "-------------------------------\n",
      "loss: 0.260521  [    0/36076] time: 0.006227254867553711 acc: 0.921875 precision: 0.9117646813392639 recall: 0.939393937587738\n",
      "loss: 0.423759  [ 6400/36076] time: 0.46535825729370117 acc: 0.828125 precision: 0.9142857193946838 recall: 0.800000011920929\n",
      "loss: 0.351165  [12800/36076] time: 0.45746517181396484 acc: 0.84375 precision: 0.8846153616905212 recall: 0.7666666507720947\n"
     ]
    },
    {
     "name": "stdout",
     "output_type": "stream",
     "text": [
      "loss: 0.212297  [19200/36076] time: 0.3984673023223877 acc: 0.921875 precision: 0.9189189076423645 recall: 0.9444444179534912\n",
      "loss: 0.345683  [25600/36076] time: 0.4598867893218994 acc: 0.890625 precision: 0.8571428656578064 recall: 0.8888888955116272\n",
      "loss: 0.389216  [32000/36076] time: 0.4620521068572998 acc: 0.84375 precision: 0.7931034564971924 recall: 0.8518518805503845\n",
      "Valid | Error: \n",
      " Accuracy: 0.804039, Precision: 0.748141, Recall: 0.911331, Avg loss: 0.571360 \n",
      "\n",
      "Done!\n",
      "Test | Error: \n",
      " Accuracy: 0.798848, Precision: 0.751279, Recall: 0.907227, Avg loss: 0.590886 \n",
      "\n"
     ]
    }
   ],
   "source": [
    "trainer.run_training()"
   ]
  },
  {
   "cell_type": "code",
   "execution_count": null,
   "id": "1ca9050c",
   "metadata": {},
   "outputs": [],
   "source": []
  }
 ],
 "metadata": {
  "kernelspec": {
   "display_name": "Python 3 (ipykernel)",
   "language": "python",
   "name": "python3"
  },
  "language_info": {
   "codemirror_mode": {
    "name": "ipython",
    "version": 3
   },
   "file_extension": ".py",
   "mimetype": "text/x-python",
   "name": "python",
   "nbconvert_exporter": "python",
   "pygments_lexer": "ipython3",
   "version": "3.10.9"
  }
 },
 "nbformat": 4,
 "nbformat_minor": 5
}
