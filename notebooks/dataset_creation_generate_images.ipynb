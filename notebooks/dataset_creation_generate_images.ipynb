{
 "cells": [
  {
   "cell_type": "code",
   "execution_count": 2,
   "id": "b3e168f9",
   "metadata": {},
   "outputs": [],
   "source": [
    "import sys\n",
    "sys.path.append('..')\n",
    "sys.path.append('../stylegan3')\n",
    "from stylegan_generator import StyleGANGenerator"
   ]
  },
  {
   "cell_type": "code",
   "execution_count": 3,
   "id": "d4ee1a0c",
   "metadata": {},
   "outputs": [],
   "source": [
    "network_pkl = 'https://api.ngc.nvidia.com/v2/models/nvidia/research/stylegan3/versions/1/files/stylegan3-r-ffhqu-1024x1024.pkl'\n",
    "# network_pkl = 'https://nvlabs-fi-cdn.nvidia.com/stylegan2-ada-pytorch/pretrained/ffhq.pkl'\n",
    "generator = StyleGANGenerator(network_pkl)"
   ]
  },
  {
   "cell_type": "code",
   "execution_count": 4,
   "id": "340d453b",
   "metadata": {},
   "outputs": [
    {
     "data": {
      "application/vnd.jupyter.widget-view+json": {
       "model_id": "724c3ceed737407782d5b5eaddfdb31e",
       "version_major": 2,
       "version_minor": 0
      },
      "text/plain": [
       "  0%|          | 0/22963 [00:00<?, ?it/s]"
      ]
     },
     "metadata": {},
     "output_type": "display_data"
    },
    {
     "name": "stdout",
     "output_type": "stream",
     "text": [
      "Setting up PyTorch plugin \"bias_act_plugin\"... Done.\n",
      "Setting up PyTorch plugin \"filtered_lrelu_plugin\"... Done.\n"
     ]
    }
   ],
   "source": [
    "n_batch = 22963\n",
    "batch_size = 4\n",
    "outdir = '/home/robert/data/diploma-thesis/datasets/features/imgs/male'\n",
    "truncation_psi = 0.7\n",
    "z_path = '/home/robert/data/diploma-thesis/datasets/features/z/male/1/1_5.h5'\n",
    "generator.generate_images_from_z(z_path, n_batch, batch_size, outdir, truncation_psi=truncation_psi)"
   ]
  },
  {
   "cell_type": "code",
   "execution_count": 1,
   "id": "7b1423b3",
   "metadata": {},
   "outputs": [
    {
     "data": {
      "text/plain": [
       "(91852, 512)"
      ]
     },
     "execution_count": 1,
     "metadata": {},
     "output_type": "execute_result"
    }
   ],
   "source": [
    "import h5py\n",
    "\n",
    "z_path = '/home/robert/data/diploma-thesis/datasets/features/z/male/1/1_5.h5'\n",
    "with h5py.File(z_path, 'r') as f:\n",
    "    z = f['z'][:]\n",
    "\n",
    "z.shape"
   ]
  },
  {
   "cell_type": "code",
   "execution_count": null,
   "id": "3396ea70",
   "metadata": {},
   "outputs": [],
   "source": []
  }
 ],
 "metadata": {
  "kernelspec": {
   "display_name": "Python 3 (ipykernel)",
   "language": "python",
   "name": "python3"
  },
  "language_info": {
   "codemirror_mode": {
    "name": "ipython",
    "version": 3
   },
   "file_extension": ".py",
   "mimetype": "text/x-python",
   "name": "python",
   "nbconvert_exporter": "python",
   "pygments_lexer": "ipython3",
   "version": "3.10.9"
  }
 },
 "nbformat": 4,
 "nbformat_minor": 5
}
